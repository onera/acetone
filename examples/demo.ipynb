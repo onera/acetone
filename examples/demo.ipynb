{
 "cells": [
  {
   "cell_type": "markdown",
   "id": "832fadea-c1d1-4df5-8969-b466b3cda36c",
   "metadata": {},
   "source": [
    "This file present an example of how to use the package acetone-nnet"
   ]
  },
  {
   "cell_type": "markdown",
   "id": "d3967d85-b2b1-44da-b6c7-3d56231b88c0",
   "metadata": {},
   "source": [
    "# Importing the package"
   ]
  },
  {
   "cell_type": "code",
   "execution_count": 45,
   "id": "086d179d-d8b4-4cc9-93e8-124cb67d4211",
   "metadata": {},
   "outputs": [],
   "source": [
    "import acetone_nnet"
   ]
  },
  {
   "cell_type": "markdown",
   "id": "8997ec04-52bc-4415-a5f8-8d62a7d80d60",
   "metadata": {},
   "source": [
    "# Generating code, example ACAS\n",
    "\n",
    "There is two way to generate the code:\n",
    "    -Using the function 'cli_acetone' to directly generate both the output python and the code C\n",
    "    -Using the class 'CodeGenerator' to have more controle on the generation\n"
   ]
  },
  {
   "cell_type": "markdown",
   "id": "58706ced-6b1c-4842-9e37-0f2ebdc473a8",
   "metadata": {},
   "source": [
    "This method is mainly used as a command-line, either by runing the python file, either by using the built in command: acetone_generate.\n",
    "Confere to the ReadMe for example using a terminal.\n",
    "This method is prefered when using the package. \n",
    "It allows more regarding the type of the arguments, give more controle over the generation."
   ]
  },
  {
   "cell_type": "markdown",
   "id": "b6eccf78-bbc4-4772-a7cd-760df2733aca",
   "metadata": {},
   "source": [
    "### Defining the constants to use"
   ]
  },
  {
   "cell_type": "code",
   "execution_count": 31,
   "id": "948861d5-e387-4be2-9828-3b8d68fcba7d",
   "metadata": {},
   "outputs": [],
   "source": [
    "model_path = \"../tests/models/acas/acas_COC/nn_acas_COC.nnet\"  # Replace by the path to the model whose code you want to generate, or directly by the model to parse (either Onnx or Keras model, created using their python package)\n",
    "test_dataset = None  # Replace by the path to the dataset on which the test must be done, or by a numpy array containing the dataset. If None, the generator while create a random dataset\n",
    "function_name = \"demo_acas\"  # Replace by the name you want to give to the generated function (default is 'inference')\n",
    "nb_tests = 1  # Replace by the number of tests you want to run\n",
    "normalize = False  # Turn to True if the input model is in format NNet and the normalization option is turned on\n",
    "output_path_c = \"demo_acas_nnet\"  # Replace by the path to directory in which the code C while be generated (must be an already existing folder)\n",
    "output_path_py = \"\"  # Replace by the path to directory in which the output python while be generated (must be an already existing folder)\n",
    "debug_mode = None  # If the generation must be done in debug mode, replace by the name of the format ('keras' or 'onnx')"
   ]
  },
  {
   "cell_type": "markdown",
   "id": "db6925ba-42ff-4a85-bb7c-eb60b0c8537d",
   "metadata": {},
   "source": [
    "### Instantiating a 'CodeGenerator' element"
   ]
  },
  {
   "cell_type": "code",
   "execution_count": 32,
   "id": "cf046b5e-512e-450f-924d-7937bcb5eab4",
   "metadata": {},
   "outputs": [
    {
     "name": "stdout",
     "output_type": "stream",
     "text": [
      "Finished model initialization.\n"
     ]
    }
   ],
   "source": [
    "generator = acetone_nnet.CodeGenerator(file=model_path,\n",
    "                                       test_dataset=test_dataset,\n",
    "                                       function_name=function_name,\n",
    "                                       nb_tests=nb_tests,\n",
    "                                       normalize=normalize,\n",
    "                                       debug_mode=debug_mode)"
   ]
  },
  {
   "cell_type": "markdown",
   "id": "2341d78f-4b17-450b-89d5-a7e67b465130",
   "metadata": {},
   "source": [
    "### Generating the C code"
   ]
  },
  {
   "cell_type": "code",
   "execution_count": 33,
   "id": "c4dfc7f8-f2af-499a-b071-1f0f2b9c42f3",
   "metadata": {},
   "outputs": [
    {
     "name": "stdout",
     "output_type": "stream",
     "text": [
      "Generated function source file.\n",
      "Generated function header file.\n",
      "Generated globalvars .c file.\n",
      "Generated main file.\n",
      "Generated Makefile.\n",
      "Generated testdataset files.\n"
     ]
    }
   ],
   "source": [
    "generator.generate_c_files(output_path_c)"
   ]
  },
  {
   "cell_type": "markdown",
   "id": "8b302dfd-fe0f-4c60-87e2-fbdb183fdcd4",
   "metadata": {},
   "source": [
    "### Generating the Python output"
   ]
  },
  {
   "cell_type": "code",
   "execution_count": 38,
   "id": "ba527081-227e-4997-92c7-bdcba657487b",
   "metadata": {},
   "outputs": [
    {
     "name": "stdout",
     "output_type": "stream",
     "text": [
      "File output_python.txt generated.\n"
     ]
    },
    {
     "data": {
      "text/plain": [
       "array([24715.65515468, 24798.92444016, 24650.51800126, 24824.74409792,\n",
       "       24628.39230361])"
      ]
     },
     "execution_count": 38,
     "metadata": {},
     "output_type": "execute_result"
    }
   ],
   "source": [
    "generator.compute_inference(output_path_c)"
   ]
  },
  {
   "cell_type": "markdown",
   "id": "e6f1151d-f895-44f1-b6ec-6d810ff8da52",
   "metadata": {},
   "source": [
    "### Importing the ONNX model"
   ]
  },
  {
   "cell_type": "code",
   "execution_count": 42,
   "id": "f6f90efa-aa38-4ac4-9e9d-2dc7c5fd3d05",
   "metadata": {},
   "outputs": [
    {
     "name": "stdout",
     "output_type": "stream",
     "text": [
      "Finished model initialization.\n"
     ]
    }
   ],
   "source": [
    "model_path = \"../tests/models/acas/acas_COC/nn_acas_COC.onnx\"\n",
    "output_path_c = \"demo_acas_onnx\"\n",
    "\n",
    "onnx_generator = acetone_nnet.CodeGenerator(file=model_path,\n",
    "                                       test_dataset=generator.test_dataset,\n",
    "                                       function_name=function_name,\n",
    "                                       nb_tests=nb_tests,\n",
    "                                       normalize=normalize,\n",
    "                                       debug_mode=debug_mode)"
   ]
  },
  {
   "cell_type": "code",
   "execution_count": 44,
   "id": "6227c613-829d-4121-bf9f-e10464bcb971",
   "metadata": {},
   "outputs": [
    {
     "name": "stdout",
     "output_type": "stream",
     "text": [
      "Generated function source file.\n",
      "Generated function header file.\n",
      "Generated globalvars .c file.\n",
      "Generated main file.\n",
      "Generated Makefile.\n",
      "Generated testdataset files.\n"
     ]
    }
   ],
   "source": [
    "generator.generate_c_files(output_path_c)"
   ]
  },
  {
   "cell_type": "markdown",
   "id": "91004880-8869-4d9d-88b1-c64baa35c11b",
   "metadata": {},
   "source": [
    "# Generating code for LeNet with variants"
   ]
  },
  {
   "cell_type": "code",
   "execution_count": 61,
   "id": "42e7b14e-1f4f-4fdb-baf2-8746e3ed9c43",
   "metadata": {},
   "outputs": [
    {
     "name": "stdout",
     "output_type": "stream",
     "text": [
      "Finished model initialization.\n"
     ]
    },
    {
     "ename": "FileExistsError",
     "evalue": "demo_lenet5\\inference.c",
     "output_type": "error",
     "traceback": [
      "\u001b[1;31m---------------------------------------------------------------------------\u001b[0m",
      "\u001b[1;31mFileExistsError\u001b[0m                           Traceback (most recent call last)",
      "Cell \u001b[1;32mIn[61], line 19\u001b[0m\n\u001b[0;32m      9\u001b[0m debug_mode \u001b[38;5;241m=\u001b[39m \u001b[38;5;28;01mNone\u001b[39;00m  \u001b[38;5;66;03m# If the generation must be done in debug mode, replace by the name of the format ('keras' or 'onnx')\u001b[39;00m\n\u001b[0;32m     11\u001b[0m generator \u001b[38;5;241m=\u001b[39m acetone_nnet\u001b[38;5;241m.\u001b[39mCodeGenerator(file\u001b[38;5;241m=\u001b[39mmodel_path,\n\u001b[0;32m     12\u001b[0m                                        test_dataset\u001b[38;5;241m=\u001b[39mtest_dataset,\n\u001b[0;32m     13\u001b[0m                                        function_name\u001b[38;5;241m=\u001b[39mfunction_name,\n\u001b[1;32m   (...)\u001b[0m\n\u001b[0;32m     16\u001b[0m                                        normalize\u001b[38;5;241m=\u001b[39mnormalize,\n\u001b[0;32m     17\u001b[0m                                        debug_mode\u001b[38;5;241m=\u001b[39mdebug_mode)\n\u001b[1;32m---> 19\u001b[0m \u001b[43mgenerator\u001b[49m\u001b[38;5;241;43m.\u001b[39;49m\u001b[43mgenerate_c_files\u001b[49m\u001b[43m(\u001b[49m\u001b[43moutput_path_c\u001b[49m\u001b[43m)\u001b[49m\n",
      "File \u001b[1;32m~\\home\\code\\acetone\\src\\acetone_nnet\\generator\\neural_network.py:504\u001b[0m, in \u001b[0;36mCodeGenerator.generate_c_files\u001b[1;34m(self, c_files_directory)\u001b[0m\n\u001b[0;32m    502\u001b[0m \u001b[38;5;28;01mfor\u001b[39;00m file \u001b[38;5;129;01min\u001b[39;00m \u001b[38;5;28mself\u001b[39m\u001b[38;5;241m.\u001b[39mfiles_to_gen:\n\u001b[0;32m    503\u001b[0m     \u001b[38;5;28;01mif\u001b[39;00m (c_files_directory \u001b[38;5;241m/\u001b[39m file)\u001b[38;5;241m.\u001b[39mexists():\n\u001b[1;32m--> 504\u001b[0m         \u001b[38;5;28;01mraise\u001b[39;00m \u001b[38;5;167;01mFileExistsError\u001b[39;00m(c_files_directory \u001b[38;5;241m/\u001b[39m file)\n\u001b[0;32m    506\u001b[0m \u001b[38;5;28mself\u001b[39m\u001b[38;5;241m.\u001b[39mgenerate_function_source_file(c_files_directory)\n\u001b[0;32m    507\u001b[0m \u001b[38;5;28mprint\u001b[39m(\u001b[38;5;124m\"\u001b[39m\u001b[38;5;124mGenerated function source file.\u001b[39m\u001b[38;5;124m\"\u001b[39m)\n",
      "\u001b[1;31mFileExistsError\u001b[0m: demo_lenet5\\inference.c"
     ]
    }
   ],
   "source": [
    "model_path = \"../tests/models/lenet5/lenet5_trained/lenet5_trained.json\"  # Replace by the path to the model whose code you want to generate, or directly by the model to parse (either Onnx or Keras model, created using their python package)\n",
    "test_dataset = None  # Replace by the path to the dataset on which the test must be done, or by a numpy array containing the dataset. If None, the generator while create a random dataset\n",
    "function_name = \"demo_lenet5\"  # Replace by the name you want to give to the generated function (default is 'inference')\n",
    "nb_tests = 1  # Replace by the number of tests you want to run\n",
    "conv_algorithm = \"indirect_gemm_nn\"  # Replace by the implementation of the Conv algorithm you desire\n",
    "normalize = False  # Turn to True if the input model is in format NNet and the normalization option is turned on\n",
    "output_path_c = \"demo_lenet5\"  # Replace by the path to directory in which the code C while be generated (must be an already existing folder)\n",
    "output_path_py = \"\"  # Replace by the path to directory in which the output python while be generated (must be an already existing folder)\n",
    "debug_mode = None  # If the generation must be done in debug mode, replace by the name of the format ('keras' or 'onnx')\n",
    "\n",
    "generator = acetone_nnet.CodeGenerator(file=model_path,\n",
    "                                       test_dataset=test_dataset,\n",
    "                                       function_name=function_name,\n",
    "                                       nb_tests=nb_tests,\n",
    "                                       versions={\"Conv2D\": conv_algorithm},\n",
    "                                       normalize=normalize,\n",
    "                                       debug_mode=debug_mode)\n",
    "\n",
    "generator.generate_c_files(output_path_c)"
   ]
  },
  {
   "cell_type": "code",
   "execution_count": null,
   "id": "69e7e869-87fe-4b9d-be5e-e4cabee960c5",
   "metadata": {},
   "outputs": [],
   "source": [
    "# TODO Run"
   ]
  },
  {
   "cell_type": "code",
   "execution_count": 62,
   "id": "235e8254-cbf8-4723-aa91-dea41ca2d441",
   "metadata": {},
   "outputs": [
    {
     "name": "stdout",
     "output_type": "stream",
     "text": [
      "Finished model initialization.\n",
      "Generated function source file.\n",
      "Generated function header file.\n",
      "Generated globalvars .c file.\n",
      "Generated main file.\n",
      "Generated Makefile.\n",
      "Generated testdataset files.\n"
     ]
    }
   ],
   "source": [
    "model_path = \"../tests/models/lenet5/lenet5_trained/lenet5_trained.json\"  # Replace by the path to the model whose code you want to generate, or directly by the model to parse (either Onnx or Keras model, created using their python package)\n",
    "test_dataset = None  # Replace by the path to the dataset on which the test must be done, or by a numpy array containing the dataset. If None, the generator while create a random dataset\n",
    "function_name = \"demo_lenet5\"  # Replace by the name you want to give to the generated function (default is 'inference')\n",
    "nb_tests = 1  # Replace by the number of tests you want to run\n",
    "conv_algorithm = \"std_gemm_nn\"  # Replace by the implementation of the Conv algorithm you desire\n",
    "normalize = False  # Turn to True if the input model is in format NNet and the normalization option is turned on\n",
    "output_path_c = \"demo_lenet5_gemm\"  # Replace by the path to directory in which the code C while be generated (must be an already existing folder)\n",
    "output_path_py = \"\"  # Replace by the path to directory in which the output python while be generated (must be an already existing folder)\n",
    "debug_mode = None  # If the generation must be done in debug mode, replace by the name of the format ('keras' or 'onnx')\n",
    "\n",
    "generator = acetone_nnet.CodeGenerator(file=model_path,\n",
    "                                       test_dataset=generator.test_dataset,\n",
    "                                       function_name=function_name,\n",
    "                                       nb_tests=nb_tests,\n",
    "                                       versions={\"Conv2D\": conv_algorithm},\n",
    "                                       normalize=normalize,\n",
    "                                       debug_mode=debug_mode)\n",
    "\n",
    "generator.generate_c_files(output_path_c)"
   ]
  },
  {
   "cell_type": "code",
   "execution_count": null,
   "id": "8f5d7fc6-0d9b-47d4-a518-92a1f1ddae53",
   "metadata": {},
   "outputs": [],
   "source": []
  },
  {
   "cell_type": "markdown",
   "id": "4a7a28db-9c44-4947-a077-15e07b05c443",
   "metadata": {},
   "source": [
    "# TODO\n",
    "- Delete generated code before generation\n",
    "- Rename the nnet to nnet\n",
    "- Add calls to\n",
    "  - compiler\n",
    "  - run\n",
    "  - compare nnet and onnx outputs in C\n",
    "  - compare nnet and python outputs\n",
    "- Cleanup excess parameters "
   ]
  },
  {
   "cell_type": "code",
   "execution_count": null,
   "id": "8b3083a1-8088-4d88-ac9e-d6cae441d0d1",
   "metadata": {},
   "outputs": [],
   "source": []
  }
 ],
 "metadata": {
  "kernelspec": {
   "display_name": "Python 3 (ipykernel)",
   "language": "python",
   "name": "python3"
  },
  "language_info": {
   "codemirror_mode": {
    "name": "ipython",
    "version": 3
   },
   "file_extension": ".py",
   "mimetype": "text/x-python",
   "name": "python",
   "nbconvert_exporter": "python",
   "pygments_lexer": "ipython3",
   "version": "3.12.9"
  }
 },
 "nbformat": 4,
 "nbformat_minor": 5
}
