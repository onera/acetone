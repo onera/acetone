{
 "cells": [
  {
   "metadata": {},
   "cell_type": "markdown",
   "source": [
    "# ACETONE tutorial #0\n",
    "\n",
    "**Installing the package**"
   ],
   "id": "8aade536435802ed"
  },
  {
   "metadata": {},
   "cell_type": "markdown",
   "source": [
    "Before using the framework, we need to install it.\n",
    "\n",
    "In this notebook, we'll quickly show how to install the framework on local installations.\n",
    "\n",
    "* When running this notebook on Colab, we need to install ACETONE\n",
    "* If you run this notebook locally, run it in the environment in which you installed ACETONE"
   ],
   "id": "570b6fd802f8db6c"
  },
  {
   "metadata": {},
   "cell_type": "markdown",
   "source": [
    "## From Pypi\n",
    "\n",
    "The framework is a Python package, and thus can be installed simply using Python's package manager `pip`. The easiest way to do so would be to directly get the framework from Pypi using the following command:"
   ],
   "id": "13e604919c9238e1"
  },
  {
   "metadata": {},
   "cell_type": "code",
   "source": "! pip install acetone_nnet",
   "id": "c3cfc8b68f5dd877",
   "outputs": [],
   "execution_count": null
  },
  {
   "metadata": {},
   "cell_type": "markdown",
   "source": [
    "## From GitHub (***recommended***)\n",
    "\n",
    "However, it may happen that Pypi's version is not the latest one... Thus, we recommend to get the package from the repository url instead of Pypi:"
   ],
   "id": "6a138173a659661c"
  },
  {
   "metadata": {},
   "cell_type": "code",
   "source": "! pip install acetone_nnet@git+https://github.com/onera/acetone",
   "id": "103c25a390603c09",
   "outputs": [],
   "execution_count": null
  },
  {
   "metadata": {},
   "cell_type": "markdown",
   "source": [
    "## Cloning the repository\n",
    "\n",
    "Finally, the third way we can install the package would be by cloning the GitHub repository:"
   ],
   "id": "73aae11f350c17ff"
  },
  {
   "metadata": {},
   "cell_type": "code",
   "outputs": [],
   "execution_count": null,
   "source": [
    "# Cloning the repository\n",
    "! git clone https://github.com/onera/acetone.git"
   ],
   "id": "db7cd7170099b7b7"
  },
  {
   "metadata": {},
   "cell_type": "code",
   "outputs": [],
   "execution_count": null,
   "source": [
    "# Creating a virtual environment for the project\n",
    "! python3 -m venv venv"
   ],
   "id": "e6080b71d0dadb93"
  },
  {
   "metadata": {},
   "cell_type": "code",
   "outputs": [],
   "execution_count": null,
   "source": [
    "# Activate the virtual environment\n",
    "! source venv/bin/activate"
   ],
   "id": "b909482b6f546c40"
  },
  {
   "metadata": {},
   "cell_type": "code",
   "outputs": [],
   "execution_count": null,
   "source": [
    "# Install the requirements\n",
    "! pip install -r acetone/requirements.txt"
   ],
   "id": "285db936ffa07863"
  },
  {
   "metadata": {},
   "cell_type": "code",
   "outputs": [],
   "execution_count": null,
   "source": [
    "# Install the package\n",
    "! pip insall acetone"
   ],
   "id": "d678df36a715ec44"
  }
 ],
 "metadata": {
  "kernelspec": {
   "display_name": "Python 3",
   "language": "python",
   "name": "python3"
  },
  "language_info": {
   "codemirror_mode": {
    "name": "ipython",
    "version": 2
   },
   "file_extension": ".py",
   "mimetype": "text/x-python",
   "name": "python",
   "nbconvert_exporter": "python",
   "pygments_lexer": "ipython2",
   "version": "2.7.6"
  }
 },
 "nbformat": 4,
 "nbformat_minor": 5
}
