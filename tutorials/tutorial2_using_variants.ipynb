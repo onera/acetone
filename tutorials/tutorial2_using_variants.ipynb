{
 "cells": [
  {
   "cell_type": "markdown",
   "metadata": {},
   "source": [
    "# ACETONE tutorial #2\n",
    "\n",
    "**Implementing and using other versions of a layer**"
   ]
  },
  {
   "cell_type": "markdown",
   "metadata": {},
   "source": [
    "Efficiency is a key aspect in the embedded sector, with each code being specifically adpated to a terget. As such, we need to be able to chose the implementation of each layer.\n",
    "\n",
    "In this notebook, we'll explain how to create and use specific versions of a layer in ACETONE.\n",
    "\n",
    "* When running this notebook on Colab, we need to install ACETONE \n",
    "* If you run this notebook locally, run it in the environment in which you installed ACETONE"
   ]
  },
  {
   "cell_type": "code",
   "execution_count": 1,
   "metadata": {
    "ExecuteTime": {
     "end_time": "2025-05-07T15:37:58.837484Z",
     "start_time": "2025-05-07T15:37:58.833771Z"
    }
   },
   "outputs": [],
   "source": [
    "# TODO Installs on collab"
   ]
  },
  {
   "cell_type": "code",
   "execution_count": 2,
   "metadata": {
    "ExecuteTime": {
     "end_time": "2025-05-07T15:37:58.954281Z",
     "start_time": "2025-05-07T15:37:58.881064Z"
    }
   },
   "outputs": [],
   "source": [
    "# Cleaning the working environment\n",
    "from pathlib import Path\n",
    "from os import remove, listdir\n",
    "\n",
    "def clean_working_directory(directories):\n",
    "    for directory in directories:\n",
    "        if directory.exists():\n",
    "            for file in listdir(directory):\n",
    "                if not (directory / file).is_dir():\n",
    "                    remove(directory / file)\n",
    "\n",
    "# Path to the example files\n",
    "PATH_DIR = Path(\"../tests/models/lenet5/lenet5_trained\")\n",
    "\n",
    "# Path to generated directories\n",
    "loops_output_path = Path(\"demo_lenet_6loops\")\n",
    "indirect_gemm_output_path = Path(\"demo_lenet_indirect_gemm\")\n",
    "std_gemm_output_path = Path(\"demo_lenet_std_gemm\")\n",
    "demo_output_path = Path(\"demo_lenet_optimized\")\n",
    "\n",
    "files_directories = [loops_output_path, indirect_gemm_output_path, std_gemm_output_path, demo_output_path]\n",
    "\n",
    "clean_working_directory(files_directories)"
   ]
  },
  {
   "cell_type": "markdown",
   "metadata": {},
   "source": [
    "## Imports\n",
    "\n",
    "In this notebook, we'll use as an example a simple Lenet5 model exported to Keras' format h5. The used dataset is randomly generated for testing purposes.\n",
    "\n",
    "![lenet5](./data/lenet5_trained.png)"
   ]
  },
  {
   "cell_type": "code",
   "execution_count": 3,
   "metadata": {
    "ExecuteTime": {
     "end_time": "2025-05-07T15:38:19.809270Z",
     "start_time": "2025-05-07T15:38:00.550230Z"
    }
   },
   "outputs": [
    {
     "name": "stderr",
     "output_type": "stream",
     "text": [
      "2025-05-11 14:18:54.893203: I tensorflow/core/util/port.cc:110] oneDNN custom operations are on. You may see slightly different numerical results due to floating-point round-off errors from different computation orders. To turn them off, set the environment variable `TF_ENABLE_ONEDNN_OPTS=0`.\n",
      "2025-05-11 14:18:54.899479: I tensorflow/tsl/cuda/cudart_stub.cc:28] Could not find cuda drivers on your machine, GPU will not be used.\n",
      "2025-05-11 14:18:54.984705: I tensorflow/tsl/cuda/cudart_stub.cc:28] Could not find cuda drivers on your machine, GPU will not be used.\n",
      "2025-05-11 14:18:54.986694: I tensorflow/core/platform/cpu_feature_guard.cc:182] This TensorFlow binary is optimized to use available CPU instructions in performance-critical operations.\n",
      "To enable the following instructions: AVX2 AVX_VNNI FMA, in other operations, rebuild TensorFlow with the appropriate compiler flags.\n",
      "2025-05-11 14:18:55.927536: W tensorflow/compiler/tf2tensorrt/utils/py_utils.cc:38] TF-TRT Warning: Could not find TensorRT\n"
     ]
    }
   ],
   "source": [
    "# External imports\n",
    "import numpy as np\n",
    "import pystache\n",
    "\n",
    "import keras\n",
    "from keras.datasets import mnist\n",
    "import matplotlib.pyplot as plt\n",
    "plt.rcParams[\"figure.figsize\"] = (20,8)\n",
    "\n",
    "# ACETONE's imports\n",
    "from acetone_nnet import CodeGenerator, cli_compare, list_all_implementations, conv2d_factory\n",
    "from acetone_nnet.generator import Conv2D"
   ]
  },
  {
   "cell_type": "code",
   "execution_count": 4,
   "metadata": {
    "ExecuteTime": {
     "end_time": "2025-05-07T15:38:19.828012Z",
     "start_time": "2025-05-07T15:38:19.824633Z"
    }
   },
   "outputs": [
    {
     "name": "stdout",
     "output_type": "stream",
     "text": [
      "WARNING:tensorflow:No training configuration found in the save file, so the model was *not* compiled. Compile it manually.\n"
     ]
    }
   ],
   "source": [
    "# Path to the model\n",
    "model_path = PATH_DIR / \"lenet5_trained.h5\"\n",
    "model = keras.models.load_model(model_path)\n",
    "model.compile(\"adam\", \"categorical_crossentropy\", metrics=[\"acc\"])\n",
    "# Path to the input file\n",
    "dataset = PATH_DIR / \"test_input_lenet5.txt\"\n",
    "dataset = \"./input.txt\"\n",
    "# Function name\n",
    "function_name = \"demo_lenet\"\n",
    "# Number of test\n",
    "nb_tests = 1"
   ]
  },
  {
   "cell_type": "code",
   "execution_count": 5,
   "metadata": {},
   "outputs": [],
   "source": [
    "def write_input(inputs, nb_tests, tempdir_name):\n",
    "    if nb_tests > len(inputs):\n",
    "        raise ValueError(f\"Can't have more tests to write ({nb_tests}) than values ({len(inputs)})\")\n",
    "    with open(tempdir_name / \"input.txt\" , \"w+\") as fi:\n",
    "        for i in range(nb_tests):\n",
    "            x = inputs[i]\n",
    "            print(\"[\",end=\"\",file=fi)\n",
    "            out_string = \",\".join(\n",
    "                [f'\"{float(n).hex().replace(\"0000000p\", \"p\")}\"' for n in x],\n",
    "            )\n",
    "            print(f\"{out_string}\", end=\"\", file=fi, flush=True)\n",
    "            print(\"]\", file=fi)\n",
    "\n",
    "\n",
    "def extract_outputs_c(\n",
    "        path_to_output: str | Path,\n",
    "        nb_tests: int,\n",
    ") -> np.ndarray:\n",
    "    \"\"\"Get the outputs values from the txt file.\"\"\"\n",
    "    output = []\n",
    "    with Path.open(Path(path_to_output)) as f:\n",
    "        for i, line in enumerate(f):\n",
    "\n",
    "            line = line[:-2].split(\" \")\n",
    "            line = list(map(float.fromhex, line))\n",
    "            line = np.array(line)\n",
    "            \n",
    "            output.append(line)\n",
    "            \n",
    "            if i >= nb_tests:\n",
    "                break\n",
    "    f.close()\n",
    "    return line\n",
    "\n",
    "data =  np.random.default_rng(10).random((1,28*28), dtype=np.float32)\n",
    "write_input(data,1,Path(\".\"))\n"
   ]
  },
  {
   "cell_type": "code",
   "execution_count": 6,
   "metadata": {},
   "outputs": [],
   "source": [
    "img_rows, img_cols = 28, 28\n",
    "(x_train, y_train_), (x_test, y_test_) = mnist.load_data()\n",
    "x_train = x_train.reshape((-1, 784))\n",
    "x_test = x_test.reshape((-1, 784))\n",
    "x_train = x_train.astype(\"float32\")\n",
    "x_test = x_test.astype(\"float32\")\n",
    "x_train /= 255.0\n",
    "x_test /= 255.0\n",
    "y_train = keras.utils.to_categorical(y_train_)\n",
    "y_test = keras.utils.to_categorical(y_test_)\n",
    "\n",
    "x_train = np.array([x.reshape((28,28)) for x in x_train])\n",
    "x_test = np.array([x.reshape((28,28)) for x in x_test])"
   ]
  },
  {
   "cell_type": "code",
   "execution_count": 7,
   "metadata": {},
   "outputs": [
    {
     "name": "stdout",
     "output_type": "stream",
     "text": [
      "Epoch 1/3\n",
      "1500/1500 [==============================] - 19s 12ms/step - loss: 0.0194 - acc: 0.9931 - val_loss: 0.0198 - val_acc: 0.9930\n",
      "Epoch 2/3\n",
      "1500/1500 [==============================] - 18s 12ms/step - loss: 0.0166 - acc: 0.9946 - val_loss: 0.0236 - val_acc: 0.9919\n",
      "Epoch 3/3\n",
      "1500/1500 [==============================] - 20s 13ms/step - loss: 0.0142 - acc: 0.9952 - val_loss: 0.0239 - val_acc: 0.9922\n",
      "313/313 [==============================] - 3s 8ms/step - loss: 0.0534 - acc: 0.9852\n"
     ]
    },
    {
     "data": {
      "text/plain": [
       "[0.05340440571308136, 0.9851999878883362]"
      ]
     },
     "execution_count": 7,
     "metadata": {},
     "output_type": "execute_result"
    }
   ],
   "source": [
    "model.fit(x_train, y_train, batch_size=32, shuffle=True, validation_split=0.2, epochs=3)\n",
    "model.evaluate(x_test, y_test, batch_size=32)"
   ]
  },
  {
   "cell_type": "markdown",
   "metadata": {},
   "source": [
    "## Using ACETONE's native implementations\n",
    "\n",
    "The framework laready provides, for some layers, several versions from which to choose before generating our code."
   ]
  },
  {
   "cell_type": "code",
   "execution_count": 8,
   "metadata": {
    "ExecuteTime": {
     "end_time": "2025-05-07T15:38:19.893377Z",
     "start_time": "2025-05-07T15:38:19.887072Z"
    }
   },
   "outputs": [
    {
     "name": "stdout",
     "output_type": "stream",
     "text": [
      "Conv2D :\n",
      "    6loops\n",
      "    indirect_gemm_nn\n",
      "    indirect_gemm_tn\n",
      "    indirect_gemm_nt\n",
      "    indirect_gemm_tt\n",
      "    std_gemm_nn\n",
      "    std_gemm_tn\n",
      "    std_gemm_nt\n",
      "    std_gemm_tt\n",
      "    gemm_target\n",
      "\n",
      "\n"
     ]
    }
   ],
   "source": [
    "implemented = list_all_implementations()\n",
    "for layer_name in implemented:\n",
    "    print(layer_name,\":\")\n",
    "    for implementation in implemented[layer_name]:\n",
    "        print(\"   \", implementation)\n",
    "    print(\"\\n\")"
   ]
  },
  {
   "cell_type": "markdown",
   "metadata": {},
   "source": [
    "# Version of the layer to use\n",
    "conv_algorithm = \"indirect_gemm_nn\"\n",
    "\n",
    "# Create an ACETONE CodeGenerator from the model\n",
    "\n",
    "Let's focus on the convolution layer.\n",
    "\n",
    "The 3 main algorithms provided by ACETONE for the convolution are: *6loops*, *std_gemm* and *indirect_gemm*.\n",
    "\n",
    "The first algorithm implements the naive version of a convolution: a triple loop iters all the indices of the ouput, and for each of this indices another triple loop compute the value using the input tensor and the kernel, as illustrated below (for a 2D exemple).\n",
    "\n",
    "![Conv_6loops](./data/conv_6loops.gif \"segment\")\n",
    "\n",
    "We can change the implementation of a specific type of layer by using the class **CodeGenerator**'s argument `versions`.\n",
    "This argument takes a dictionary containing a reference to the layer (usually the name) as key and the version's name as value."
   ]
  },
  {
   "cell_type": "code",
   "execution_count": 9,
   "metadata": {
    "ExecuteTime": {
     "end_time": "2025-05-07T15:38:24.273242Z",
     "start_time": "2025-05-07T15:38:20.065867Z"
    }
   },
   "outputs": [
    {
     "name": "stdout",
     "output_type": "stream",
     "text": [
      "Finished model initialization.\n"
     ]
    }
   ],
   "source": [
    "# Create an ACETONE CodeGenerator from the model\n",
    "loops_generator = CodeGenerator(file=model,\n",
    "                                function_name=function_name,\n",
    "                                external_input=True,\n",
    "                                versions={\"Conv2D\":\"6loops\"},\n",
    "                                nb_tests=nb_tests)"
   ]
  },
  {
   "cell_type": "code",
   "execution_count": 10,
   "metadata": {
    "ExecuteTime": {
     "end_time": "2025-05-07T15:38:24.962517Z",
     "start_time": "2025-05-07T15:38:24.292506Z"
    }
   },
   "outputs": [
    {
     "name": "stdout",
     "output_type": "stream",
     "text": [
      "Generated function source file.\n",
      "Generated function header file.\n",
      "Generated globalvars .c file.\n",
      "Generated main file.\n",
      "Generated Makefile.\n",
      "Generated test_dataset files.\n",
      "(1, 5, 5, 6)\n",
      "(6, 5, 5, 16)\n",
      "File output_python.txt generated.\n"
     ]
    },
    {
     "data": {
      "text/plain": [
       "array([6.73977828e-07, 5.35690421e-09, 1.47438710e-03, 9.97138802e-01,\n",
       "       1.47134587e-10, 2.45527735e-07, 1.03531962e-10, 1.46112224e-07,\n",
       "       1.38547416e-03, 2.65109776e-07])"
      ]
     },
     "execution_count": 10,
     "metadata": {},
     "output_type": "execute_result"
    }
   ],
   "source": [
    "loops_generator.generate_c_files(loops_output_path)\n",
    "loops_generator.compute_inference(loops_output_path, dataset_or_path=dataset)"
   ]
  },
  {
   "cell_type": "markdown",
   "metadata": {},
   "source": [
    "The second algorithm, *std_gemm*, uses the standard gemm (as the name suggests) to compute the convolution. In the generated C code, the convolution is divided in two main parts: the creation of the matrix of patches from the input then the multiplication of the resulting matrix with the kernel matrix.\n",
    "\n",
    "![Conv_std_gemm](./data/std_gemm.png)"
   ]
  },
  {
   "cell_type": "code",
   "execution_count": 11,
   "metadata": {
    "ExecuteTime": {
     "end_time": "2025-05-07T15:38:25.071575Z",
     "start_time": "2025-05-07T15:38:24.980367Z"
    }
   },
   "outputs": [
    {
     "name": "stdout",
     "output_type": "stream",
     "text": [
      "Finished model initialization.\n"
     ]
    }
   ],
   "source": [
    "# Create an ACETONE CodeGenerator from the model\n",
    "std_gemm_generator = CodeGenerator(file=model,\n",
    "                                    function_name=function_name,\n",
    "                                    external_input=True,\n",
    "                                    versions={\"Conv2D\":\"std_gemm_nn\"},\n",
    "                                    nb_tests=nb_tests)"
   ]
  },
  {
   "cell_type": "code",
   "execution_count": 12,
   "metadata": {
    "ExecuteTime": {
     "end_time": "2025-05-07T15:38:25.306050Z",
     "start_time": "2025-05-07T15:38:25.096800Z"
    }
   },
   "outputs": [
    {
     "name": "stdout",
     "output_type": "stream",
     "text": [
      "Generated function source file.\n",
      "Generated function header file.\n",
      "Generated globalvars .c file.\n",
      "Generated main file.\n",
      "Generated Makefile.\n",
      "Generated test_dataset files.\n",
      "(1, 5, 5, 6)\n",
      "(6, 5, 5, 16)\n",
      "File output_python.txt generated.\n"
     ]
    },
    {
     "data": {
      "text/plain": [
       "array([6.73977828e-07, 5.35690421e-09, 1.47438710e-03, 9.97138802e-01,\n",
       "       1.47134587e-10, 2.45527735e-07, 1.03531962e-10, 1.46112224e-07,\n",
       "       1.38547416e-03, 2.65109776e-07])"
      ]
     },
     "execution_count": 12,
     "metadata": {},
     "output_type": "execute_result"
    }
   ],
   "source": [
    "std_gemm_generator.generate_c_files(std_gemm_output_path)\n",
    "std_gemm_generator.compute_inference(std_gemm_output_path, dataset_or_path=dataset)"
   ]
  },
  {
   "cell_type": "markdown",
   "metadata": {},
   "source": [
    "The third algorithm is another implementation of the gemm algorithm. Instead of computing the patches matrix during the execution inf the C code, the framework computes before the generation and add to the code a matrix of pointers, each refering to the corresponding element in the input tensor.\n",
    "\n",
    "![Conv_indirect_gemm](./data/indirect_gemm.png)"
   ]
  },
  {
   "cell_type": "code",
   "execution_count": 13,
   "metadata": {
    "ExecuteTime": {
     "end_time": "2025-05-07T15:38:25.403163Z",
     "start_time": "2025-05-07T15:38:25.321212Z"
    }
   },
   "outputs": [
    {
     "name": "stdout",
     "output_type": "stream",
     "text": [
      "Finished model initialization.\n"
     ]
    }
   ],
   "source": [
    "# Create an ACETONE CodeGenerator from the model\n",
    "indirect_gemm_generator = CodeGenerator(file=model,\n",
    "                                            function_name=function_name,\n",
    "                                            external_input=True,\n",
    "                                            versions={\"Conv2D\":\"indirect_gemm_nn\"},\n",
    "                                            nb_tests=nb_tests)"
   ]
  },
  {
   "cell_type": "code",
   "execution_count": 14,
   "metadata": {
    "ExecuteTime": {
     "end_time": "2025-05-07T15:38:25.613299Z",
     "start_time": "2025-05-07T15:38:25.422040Z"
    }
   },
   "outputs": [
    {
     "name": "stdout",
     "output_type": "stream",
     "text": [
      "Generated function source file.\n",
      "Generated function header file.\n",
      "Conv2D 1 patches size: (14400,)\n",
      "Conv2D 3 patches size: (9600,)\n",
      "Generated globalvars .c file.\n",
      "Generated main file.\n",
      "Generated Makefile.\n",
      "Generated test_dataset files.\n",
      "(1, 5, 5, 6)\n",
      "(6, 5, 5, 16)\n",
      "File output_python.txt generated.\n"
     ]
    },
    {
     "data": {
      "text/plain": [
       "array([6.73977828e-07, 5.35690421e-09, 1.47438710e-03, 9.97138802e-01,\n",
       "       1.47134587e-10, 2.45527735e-07, 1.03531962e-10, 1.46112224e-07,\n",
       "       1.38547416e-03, 2.65109776e-07])"
      ]
     },
     "execution_count": 14,
     "metadata": {},
     "output_type": "execute_result"
    }
   ],
   "source": [
    "indirect_gemm_generator.generate_c_files(indirect_gemm_output_path)\n",
    "indirect_gemm_generator.compute_inference(indirect_gemm_output_path, dataset_or_path=dataset)"
   ]
  },
  {
   "cell_type": "markdown",
   "metadata": {},
   "source": [
    "We can now compile and run those generated code to ensure that the semantic was indeed preserved."
   ]
  },
  {
   "cell_type": "code",
   "execution_count": 15,
   "metadata": {
    "ExecuteTime": {
     "end_time": "2025-05-07T15:38:27.685038Z",
     "start_time": "2025-05-07T15:38:25.628813Z"
    }
   },
   "outputs": [
    {
     "name": "stdout",
     "output_type": "stream",
     "text": [
      "make: Entering directory '/home/yaitaissa/Documents/onera/acetone/tutorials/demo_lenet_indirect_gemm'\n",
      "gcc -g -w -lm   -c -o inference.o inference.c\n",
      "gcc -g -w -lm   -c -o global_vars.o global_vars.c\n",
      "gcc -g -w -lm   -c -o main.o main.c\n",
      "gcc   -o demo_lenet inference.o global_vars.o main.o inference.h test_dataset.h  -g -w -lm\n",
      "make: Leaving directory '/home/yaitaissa/Documents/onera/acetone/tutorials/demo_lenet_indirect_gemm'\n",
      "   Average time over 1 tests: 2.564000e-05 s \n",
      "   ACETONE framework's inference output: \n",
      "1.32341302e-06 0.0977965146 0.00754283788 0.00250191917 2.29646739e-05 0.15008527 3.39264807e-06 0.741994202 7.77348763e-09 5.15184147e-05 \n"
     ]
    }
   ],
   "source": [
    "# Compiling the code\n",
    "! make -C demo_lenet_indirect_gemm all\n",
    "\n",
    "# Running the executable\n",
    "! ./demo_lenet_indirect_gemm/demo_lenet ./demo_lenet_indirect_gemm/output_c.txt ../tests/models/lenet5/lenet5_trained/test_input_lenet5.txt"
   ]
  },
  {
   "cell_type": "code",
   "execution_count": 16,
   "metadata": {
    "ExecuteTime": {
     "end_time": "2025-05-07T15:38:28.534090Z",
     "start_time": "2025-05-07T15:38:27.802796Z"
    }
   },
   "outputs": [
    {
     "name": "stdout",
     "output_type": "stream",
     "text": [
      "make: Entering directory '/home/yaitaissa/Documents/onera/acetone/tutorials/demo_lenet_std_gemm'\n",
      "gcc -g -w -lm   -c -o inference.o inference.c\n",
      "gcc -g -w -lm   -c -o global_vars.o global_vars.c\n",
      "gcc -g -w -lm   -c -o main.o main.c\n",
      "gcc   -o demo_lenet inference.o global_vars.o main.o inference.h test_dataset.h  -g -w -lm\n",
      "make: Leaving directory '/home/yaitaissa/Documents/onera/acetone/tutorials/demo_lenet_std_gemm'\n",
      "   Average time over 1 tests: 3.037000e-05 s \n",
      "   ACETONE framework's inference output: \n",
      "1.32341302e-06 0.0977965146 0.00754283788 0.00250191917 2.29646739e-05 0.15008527 3.39264807e-06 0.741994202 7.77348763e-09 5.15184147e-05 \n"
     ]
    }
   ],
   "source": [
    "# Compiling the code\n",
    "! make -C demo_lenet_std_gemm all\n",
    "\n",
    "# Running the executable\n",
    "! ./demo_lenet_std_gemm/demo_lenet ./demo_lenet_std_gemm/output_c.txt ../tests/models/lenet5/lenet5_trained/test_input_lenet5.txt"
   ]
  },
  {
   "cell_type": "code",
   "execution_count": 17,
   "metadata": {
    "ExecuteTime": {
     "end_time": "2025-05-07T15:38:28.553668Z",
     "start_time": "2025-05-07T15:38:28.548815Z"
    }
   },
   "outputs": [
    {
     "name": "stdout",
     "output_type": "stream",
     "text": [
      "    Max absolute error for 1 test(s): 0.0\n",
      "    Max relative error for 1 test(s): 0.0\n",
      "\n"
     ]
    }
   ],
   "source": [
    "cli_compare(reference_file=(indirect_gemm_output_path / \"output_c.txt\"), c_file=(std_gemm_output_path / \"output_c.txt\"), nb_tests=1)"
   ]
  },
  {
   "cell_type": "markdown",
   "metadata": {},
   "source": [
    "## Adding a new implementation\n",
    "\n",
    "Let's now assume that, after studies and tests, we have found a new way to perform a convolution : setting each element of the output to `0.42`.\n",
    "\n",
    "This method being far more efficient and simple than any other, we want to use it with ACETONE. But, sadly, the framework doesn't have an implementation for it, we have to add it ourselves."
   ]
  },
  {
   "cell_type": "code",
   "execution_count": 18,
   "metadata": {
    "ExecuteTime": {
     "end_time": "2025-05-07T15:38:28.607392Z",
     "start_time": "2025-05-07T15:38:28.603513Z"
    }
   },
   "outputs": [
    {
     "name": "stdout",
     "output_type": "stream",
     "text": [
      "Base implementations : \n",
      "['6loops', 'indirect_gemm_nn', 'indirect_gemm_tn', 'indirect_gemm_nt', 'indirect_gemm_tt', 'std_gemm_nn', 'std_gemm_tn', 'std_gemm_nt', 'std_gemm_tt', 'gemm_target']\n"
     ]
    }
   ],
   "source": [
    "# Printing all the algorithm implemented in ACETONE for a convolution\n",
    "print(\"Base implementations : \")\n",
    "print(conv2d_factory.list_implementations)"
   ]
  },
  {
   "cell_type": "markdown",
   "metadata": {},
   "source": [
    "To implement it, we have to  create a new class inheriting from the `Conv2D` class (or one of its child classes). \n",
    "\n",
    "* The first method we must implement is called `generate_inference_code`. This method will construct the C code correponding to the layer, and return it as a string.\n",
    "* The second method, `forwad_path_layer`, is optional. It tell the framework how to compute the output of the layer unsing Pyhton. If not given, the method defined in the parent class is used.\n",
    "\n"
   ]
  },
  {
   "cell_type": "code",
   "execution_count": 19,
   "metadata": {
    "ExecuteTime": {
     "end_time": "2025-05-07T15:38:28.667631Z",
     "start_time": "2025-05-07T15:38:28.659150Z"
    }
   },
   "outputs": [],
   "source": [
    "# Creating a new implementation\n",
    "class Conv2D_Demo(Conv2D):\n",
    "\n",
    "    def __init__(self, **kwargs: int) -> None:\n",
    "        \"\"\"Build a Convolution layer with a demo implementation.\"\"\"\n",
    "        super().__init__(**kwargs)\n",
    "    \n",
    "    def generate_inference_code_layer(self) -> str:\n",
    "        \"\"\"Generate computation code for layer.\"\"\"\n",
    "        input_str = [prev_layer.output_str for prev_layer in self.previous_layer]\n",
    "        ouptut_str = f\"output_{self.path}\"\n",
    "\n",
    "        code_str =  \"    // {{name}}_{{idx}}\\n    for (k = 0; k < {{size}}; ++k) {{output_str}}[k] = 0.42;\"\n",
    "        return pystache.render(code_str,{\"name\":self.name, \"idx\":self.idx, \"size\":self.size,\"output_str\":ouptut_str})\n",
    "    \n",
    "    def forward_path_layer(self, input_array) -> np.ndarray:\n",
    "        return 0.42*np.ones((1,self.output_channels,self.output_height,self.output_width))"
   ]
  },
  {
   "cell_type": "markdown",
   "metadata": {},
   "source": [
    "When parsing the neural network, each time ACETONE encounters a layer having several versions, it places a temporary layers. Once the model completly extracted, those placeholders are then replaced by a defintive layer whith the correct implementation, simply by extracting the values stored (such as weight, size, biases, ...) and using them to initialize a new layer."
   ]
  },
  {
   "cell_type": "code",
   "execution_count": 20,
   "metadata": {},
   "outputs": [],
   "source": [
    "# Creating a Conv2D_Demo layer using the attributes of old_layer\n",
    "def conv2d_demo_implementation(\n",
    "        old_layer: Conv2D,\n",
    "        conv_algo: str,\n",
    ") -> Conv2D_Demo:\n",
    "    return Conv2D_Demo(\n",
    "        idx=old_layer.idx,\n",
    "        conv_algorithm=conv_algo,\n",
    "        size=old_layer.size,\n",
    "        padding=old_layer.padding,\n",
    "        strides=old_layer.strides,\n",
    "        kernel_h=old_layer.kernel_h,\n",
    "        kernel_w=old_layer.kernel_w,\n",
    "        dilation_rate=old_layer.dilation_rate,\n",
    "        nb_filters=old_layer.nb_filters,\n",
    "        input_shape=[1, old_layer.input_channels, old_layer.input_height, old_layer.input_width],\n",
    "        output_shape=[1, old_layer.output_channels, old_layer.output_height, old_layer.output_width],\n",
    "        weights=old_layer.weights,\n",
    "        biases=old_layer.biases,\n",
    "        activation_function=old_layer.activation_function,\n",
    "    )"
   ]
  },
  {
   "cell_type": "markdown",
   "metadata": {},
   "source": [
    "Finally, to add the newly created implementation to ACETONE, we need to register it within the layer's version manager."
   ]
  },
  {
   "cell_type": "code",
   "execution_count": 21,
   "metadata": {
    "ExecuteTime": {
     "end_time": "2025-05-07T15:38:28.816766Z",
     "start_time": "2025-05-07T15:38:28.813270Z"
    }
   },
   "outputs": [
    {
     "name": "stdout",
     "output_type": "stream",
     "text": [
      "Updated implementations : \n",
      "['6loops', 'indirect_gemm_nn', 'indirect_gemm_tn', 'indirect_gemm_nt', 'indirect_gemm_tt', 'std_gemm_nn', 'std_gemm_tn', 'std_gemm_nt', 'std_gemm_tt', 'gemm_target', 'demo']\n"
     ]
    }
   ],
   "source": [
    "conv2d_factory.register_implementation(\"demo\", conv2d_demo_implementation)\n",
    "\n",
    "print(\"Updated implementations : \")\n",
    "print(conv2d_factory.list_implementations)"
   ]
  },
  {
   "cell_type": "markdown",
   "metadata": {},
   "source": [
    "The new version being available in the list of implementations, we can now use it to generate code."
   ]
  },
  {
   "cell_type": "code",
   "execution_count": 22,
   "metadata": {
    "ExecuteTime": {
     "end_time": "2025-05-07T15:38:29.016174Z",
     "start_time": "2025-05-07T15:38:28.869992Z"
    }
   },
   "outputs": [
    {
     "name": "stdout",
     "output_type": "stream",
     "text": [
      "Finished model initialization.\n",
      "Generated function source file.\n",
      "Generated function header file.\n",
      "Generated globalvars .c file.\n",
      "Generated main file.\n",
      "Generated Makefile.\n",
      "Generated test_dataset files.\n"
     ]
    }
   ],
   "source": [
    "# Create an ACETONE CodeGenerator from the model\n",
    "demo_generator = CodeGenerator(file=model,\n",
    "                                    function_name=function_name,\n",
    "                                    external_input=True,\n",
    "                                    versions={\"Conv2D\":\"demo\"},\n",
    "                                    nb_tests=nb_tests)\n",
    "\n",
    "demo_generator.generate_c_files(demo_output_path)"
   ]
  },
  {
   "cell_type": "markdown",
   "metadata": {},
   "source": [
    "The code then has the optimized implementation and is ready to be deployed on any target !"
   ]
  },
  {
   "cell_type": "markdown",
   "metadata": {},
   "source": [
    "# Study Case\n",
    "\n",
    "Comparing the outputs of a random dataset is great for tests, but not really demonstratif and adapted to a tutorial like this one. \n",
    "\n",
    "To illustrate the conservation of semantics between the different versions seen, we'll use the MNIST dataset."
   ]
  },
  {
   "cell_type": "markdown",
   "metadata": {},
   "source": [
    "## Loading images\n",
    "\n",
    "We first load MNIST data from keras dataset"
   ]
  },
  {
   "cell_type": "code",
   "execution_count": null,
   "metadata": {},
   "outputs": [
    {
     "name": "stdout",
     "output_type": "stream",
     "text": [
      "[ 352 5990 1177 8034 3314 3639 4210 1298 7576  843]\n",
      "1/1 [==============================] - 0s 41ms/step\n",
      "   Average time over 1 tests: 2.549000e-05 s \n",
      "   ACETONE framework's inference output: \n",
      "1.32341302e-06 0.0977965146 0.00754283788 0.00250191917 2.29646739e-05 0.15008527 3.39264807e-06 0.741994202 7.77348763e-09 5.15184147e-05 \n",
      "[1.32341302e-06 9.77965146e-02 7.54283788e-03 2.50191917e-03\n",
      " 2.29646739e-05 1.50085270e-01 3.39264807e-06 7.41994202e-01\n",
      " 7.77348763e-09 5.15184147e-05] 7\n",
      "   Average time over 1 tests: 4.213000e-05 s \n",
      "   ACETONE framework's inference output: \n",
      "1.32341302e-06 0.0977965146 0.00754283788 0.00250191917 2.29646739e-05 0.15008527 3.39264807e-06 0.741994202 7.77348763e-09 5.15184147e-05 \n",
      "[1.32341302e-06 9.77965146e-02 7.54283788e-03 2.50191917e-03\n",
      " 2.29646739e-05 1.50085270e-01 3.39264807e-06 7.41994202e-01\n",
      " 7.77348763e-09 5.15184147e-05] 7\n",
      "   Average time over 1 tests: 3.827000e-05 s \n",
      "   ACETONE framework's inference output: \n",
      "1.32341302e-06 0.0977965146 0.00754283788 0.00250191917 2.29646739e-05 0.15008527 3.39264807e-06 0.741994202 7.77348763e-09 5.15184147e-05 \n",
      "[1.32341302e-06 9.77965146e-02 7.54283788e-03 2.50191917e-03\n",
      " 2.29646739e-05 1.50085270e-01 3.39264807e-06 7.41994202e-01\n",
      " 7.77348763e-09 5.15184147e-05] 7\n",
      "   Average time over 1 tests: 2.586000e-05 s \n",
      "   ACETONE framework's inference output: \n",
      "1.32341302e-06 0.0977965146 0.00754283788 0.00250191917 2.29646739e-05 0.15008527 3.39264807e-06 0.741994202 7.77348763e-09 5.15184147e-05 \n",
      "[1.32341302e-06 9.77965146e-02 7.54283788e-03 2.50191917e-03\n",
      " 2.29646739e-05 1.50085270e-01 3.39264807e-06 7.41994202e-01\n",
      " 7.77348763e-09 5.15184147e-05] 7\n",
      "   Average time over 1 tests: 2.943000e-05 s \n",
      "   ACETONE framework's inference output: \n",
      "1.32341302e-06 0.0977965146 0.00754283788 0.00250191917 2.29646739e-05 0.15008527 3.39264807e-06 0.741994202 7.77348763e-09 5.15184147e-05 \n",
      "[1.32341302e-06 9.77965146e-02 7.54283788e-03 2.50191917e-03\n",
      " 2.29646739e-05 1.50085270e-01 3.39264807e-06 7.41994202e-01\n",
      " 7.77348763e-09 5.15184147e-05] 7\n",
      "   Average time over 1 tests: 2.892000e-05 s \n",
      "   ACETONE framework's inference output: \n",
      "1.32341302e-06 0.0977965146 0.00754283788 0.00250191917 2.29646739e-05 0.15008527 3.39264807e-06 0.741994202 7.77348763e-09 5.15184147e-05 \n",
      "[1.32341302e-06 9.77965146e-02 7.54283788e-03 2.50191917e-03\n",
      " 2.29646739e-05 1.50085270e-01 3.39264807e-06 7.41994202e-01\n",
      " 7.77348763e-09 5.15184147e-05] 7\n",
      "   Average time over 1 tests: 2.826000e-05 s \n",
      "   ACETONE framework's inference output: \n",
      "1.32341302e-06 0.0977965146 0.00754283788 0.00250191917 2.29646739e-05 0.15008527 3.39264807e-06 0.741994202 7.77348763e-09 5.15184147e-05 \n",
      "[1.32341302e-06 9.77965146e-02 7.54283788e-03 2.50191917e-03\n",
      " 2.29646739e-05 1.50085270e-01 3.39264807e-06 7.41994202e-01\n",
      " 7.77348763e-09 5.15184147e-05] 7\n",
      "   Average time over 1 tests: 2.756000e-05 s \n",
      "   ACETONE framework's inference output: \n",
      "1.32341302e-06 0.0977965146 0.00754283788 0.00250191917 2.29646739e-05 0.15008527 3.39264807e-06 0.741994202 7.77348763e-09 5.15184147e-05 \n",
      "[1.32341302e-06 9.77965146e-02 7.54283788e-03 2.50191917e-03\n",
      " 2.29646739e-05 1.50085270e-01 3.39264807e-06 7.41994202e-01\n",
      " 7.77348763e-09 5.15184147e-05] 7\n",
      "   Average time over 1 tests: 2.724000e-05 s \n",
      "   ACETONE framework's inference output: \n",
      "1.32341302e-06 0.0977965146 0.00754283788 0.00250191917 2.29646739e-05 0.15008527 3.39264807e-06 0.741994202 7.77348763e-09 5.15184147e-05 \n",
      "[1.32341302e-06 9.77965146e-02 7.54283788e-03 2.50191917e-03\n",
      " 2.29646739e-05 1.50085270e-01 3.39264807e-06 7.41994202e-01\n",
      " 7.77348763e-09 5.15184147e-05] 7\n",
      "   Average time over 1 tests: 1.945000e-05 s \n",
      "   ACETONE framework's inference output: \n",
      "1.32341302e-06 0.0977965146 0.00754283788 0.00250191917 2.29646739e-05 0.15008527 3.39264807e-06 0.741994202 7.77348763e-09 5.15184147e-05 \n",
      "[1.32341302e-06 9.77965146e-02 7.54283788e-03 2.50191917e-03\n",
      " 2.29646739e-05 1.50085270e-01 3.39264807e-06 7.41994202e-01\n",
      " 7.77348763e-09 5.15184147e-05] 7\n",
      "[7, 7, 7, 7, 7, 7, 7, 7, 7, 7]\n"
     ]
    },
    {
     "data": {
      "image/png": "[encoded data removed]",
      "text/plain": [
       "<Figure size 2000x800 with 10 Axes>"
      ]
     },
     "metadata": {},
     "output_type": "display_data"
    }
   ],
   "source": [
    "n_col = 5\n",
    "n_row = 2\n",
    "n_samples = n_col*n_row\n",
    "indexes = np.random.permutation(len(x_test))[:n_samples]\n",
    "print(indexes)\n",
    "\n",
    "inputs = x_test[indexes]\n",
    "keras_ouputs = model.predict(inputs)\n",
    "keras_labels = keras_ouputs.argmax(axis=-1)\n",
    "\n",
    "std_gemm_labels = []\n",
    "for x in inputs: \n",
    "    write_input([x.flatten()], 1, Path(\".\"))\n",
    "    ! ./demo_lenet_std_gemm/demo_lenet ./demo_lenet_std_gemm/output_c.txt ./input.txt\n",
    "    labels = extract_outputs_c(\"./demo_lenet_std_gemm/output_c.txt\",1)\n",
    "    print(labels, labels.argmax(axis=-1))\n",
    "    std_gemm_labels.append(labels.argmax())\n",
    "\n",
    "\n",
    "\n",
    "fig,axs = plt.subplots(n_row,n_col)\n",
    "\n",
    "for i in range(n_row):\n",
    "    for j in range(n_col):\n",
    "        ax = axs[i,j]\n",
    "        ax.imshow(inputs[i*n_col+j], cmap=\"gray\")\n",
    "        ax.set_title(f\"Keras output: {keras_labels[i*n_col+j]}\")\n",
    "\n",
    "print(std_gemm_labels)\n",
    "        "
   ]
  }
 ],
 "metadata": {
  "kernelspec": {
   "display_name": "venv",
   "language": "python",
   "name": "python3"
  },
  "language_info": {
   "codemirror_mode": {
    "name": "ipython",
    "version": 3
   },
   "file_extension": ".py",
   "mimetype": "text/x-python",
   "name": "python",
   "nbconvert_exporter": "python",
   "pygments_lexer": "ipython3",
   "version": "3.10.16"
  }
 },
 "nbformat": 4,
 "nbformat_minor": 2
}
