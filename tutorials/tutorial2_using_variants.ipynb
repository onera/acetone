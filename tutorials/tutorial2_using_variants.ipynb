{
 "cells": [
  {
   "cell_type": "markdown",
   "metadata": {},
   "source": [
    "# ACETONE tutorial #2\n",
    "\n",
    "**Using other versions of a layer**"
   ]
  },
  {
   "cell_type": "markdown",
   "metadata": {},
   "source": [
    "Efficiency is a key aspect in the embedded sector, with each code being specifically adpated to a target. As such, we need to be able to choose the implementation of each layer.\n",
    "\n",
    "In this notebook, we'll explain how to use specific versions of a layer in ACETONE.\n",
    "\n",
    "* When running this notebook on Colab, we need to install ACETONE \n",
    "* If you run this notebook locally, run it in the environment in which you installed ACETONE\n",
    "\n",
    "The Python code on which the code for manipulating data from the MNIST database was originally written by Mélanie Ducoffe for the ANITI Tech'Session about the librairy DECOMON on 4/04/2025 ([replay](https://www.youtube.com/watch?v=1Jhj3xbsF1k&t=8s)). The code can be found in the [tutorial 3](https://airbus.github.io/decomon/main/tutorials.html) about local robustness to adversarial attacks for classification tasks."
   ]
  },
  {
   "cell_type": "code",
   "metadata": {
    "ExecuteTime": {
     "end_time": "2025-05-13T06:45:52.290752Z",
     "start_time": "2025-05-13T06:45:52.287689Z"
    }
   },
   "source": [
    "# TODO Installs on collab"
   ],
   "outputs": [],
   "execution_count": 1
  },
  {
   "cell_type": "code",
   "metadata": {
    "ExecuteTime": {
     "end_time": "2025-05-13T06:45:52.352730Z",
     "start_time": "2025-05-13T06:45:52.345196Z"
    }
   },
   "source": [
    "# Cleaning the working environment\n",
    "from pathlib import Path\n",
    "from os import remove, listdir\n",
    "\n",
    "def clean_working_directory(directories):\n",
    "    for directory in directories:\n",
    "        if directory.exists():\n",
    "            for file in listdir(directory):\n",
    "                if not (directory / file).is_dir():\n",
    "                    remove(directory / file)\n",
    "\n",
    "# Path to the example files\n",
    "PATH_DIR = Path(\"../tests/models/lenet5/lenet5_trained\")\n",
    "\n",
    "# Path to generated directories\n",
    "loops_output_path = Path(\"demo_lenet_6loops\")\n",
    "indirect_gemm_output_path = Path(\"demo_lenet_indirect_gemm\")\n",
    "std_gemm_output_path = Path(\"demo_lenet_std_gemm\")\n",
    "demo_output_path = Path(\"demo_lenet_optimized\")\n",
    "\n",
    "files_directories = [loops_output_path, indirect_gemm_output_path, std_gemm_output_path, demo_output_path]\n",
    "\n",
    "clean_working_directory(files_directories)"
   ],
   "outputs": [],
   "execution_count": 2
  },
  {
   "cell_type": "markdown",
   "metadata": {},
   "source": [
    "## Imports\n",
    "\n",
    "In this notebook, we'll use as an example a simple Lenet5 model exported to Keras' format h5. The first four activation functions are hyperbolic tangents, while the last one is a softmax.\n",
    "\n",
    "![lenet5](./data/lenet5_trained.png)"
   ]
  },
  {
   "cell_type": "code",
   "metadata": {
    "ExecuteTime": {
     "end_time": "2025-05-13T06:46:10.965124Z",
     "start_time": "2025-05-13T06:45:52.870916Z"
    }
   },
   "source": [
    "# External imports\n",
    "import numpy as np\n",
    "import pystache\n",
    "\n",
    "import keras\n",
    "from keras.datasets import mnist\n",
    "import matplotlib.pyplot as plt\n",
    "plt.rcParams[\"figure.figsize\"] = (20,8)\n",
    "\n",
    "# ACETONE's imports\n",
    "from acetone_nnet import CodeGenerator, cli_compare, list_all_implementations, conv2d_factory\n",
    "from acetone_nnet.generator import Conv2D"
   ],
   "outputs": [
    {
     "name": "stderr",
     "output_type": "stream",
     "text": [
      "2025-05-13 08:45:55.814637: I tensorflow/tsl/cuda/cudart_stub.cc:28] Could not find cuda drivers on your machine, GPU will not be used.\n",
      "2025-05-13 08:45:57.039557: I tensorflow/tsl/cuda/cudart_stub.cc:28] Could not find cuda drivers on your machine, GPU will not be used.\n",
      "2025-05-13 08:45:57.040419: I tensorflow/core/platform/cpu_feature_guard.cc:182] This TensorFlow binary is optimized to use available CPU instructions in performance-critical operations.\n",
      "To enable the following instructions: AVX2 FMA, in other operations, rebuild TensorFlow with the appropriate compiler flags.\n",
      "2025-05-13 08:46:01.435011: W tensorflow/compiler/tf2tensorrt/utils/py_utils.cc:38] TF-TRT Warning: Could not find TensorRT\n"
     ]
    }
   ],
   "execution_count": 3
  },
  {
   "cell_type": "markdown",
   "metadata": {},
   "source": [
    "## A few useful functions\n",
    "\n",
    "We define two functions, one to write a set of inputs into an text file and the other to extract the C code's outputs."
   ]
  },
  {
   "cell_type": "code",
   "metadata": {
    "ExecuteTime": {
     "end_time": "2025-05-13T06:46:10.989065Z",
     "start_time": "2025-05-13T06:46:10.982125Z"
    }
   },
   "source": [
    "def write_input(inputs, nb_tests, file_name):\n",
    "    \"\"\"Writes a list of inputs in a text file.\n",
    "\n",
    "    Args:\n",
    "        inputs (list[np.ndarray]): The list of inputs to write\n",
    "        nb_tests (int): The number of inputs\n",
    "        file_name (str | Path): The path to the file in which the inputs will be written\n",
    "\n",
    "    Raises:\n",
    "        ValueError: Can't write more tests (nb_tests) than the number of given inputs\n",
    "    \"\"\"\n",
    "    if nb_tests > len(inputs):\n",
    "        raise ValueError(f\"Can't have more tests to write ({nb_tests}) than values ({len(inputs)})\")\n",
    "    with open(file_name, \"w+\") as fi:\n",
    "        for i in range(nb_tests):\n",
    "            x = inputs[i].flatten()\n",
    "            out_string = \" \".join(\n",
    "                [f'{float(n).hex().replace(\"0000000p\", \"p\")}' for n in x],\n",
    "            )\n",
    "            print(f\"{out_string}\", file=fi, flush=True)\n",
    "\n",
    "\n",
    "def extract_outputs_c(\n",
    "        path_to_output: str | Path,\n",
    "        nb_tests: int,\n",
    ") -> np.ndarray:\n",
    "    \"\"\"Get the outputs values from the txt file.\"\"\"\n",
    "    output = []\n",
    "    with Path.open(Path(path_to_output)) as f:\n",
    "        for i, line in enumerate(f):\n",
    "\n",
    "            line = line[:-2].split(\" \")\n",
    "            line = list(map(float.fromhex, line))\n",
    "            line = np.array(line)\n",
    "            \n",
    "            output.append(line)\n",
    "            \n",
    "            if i >= nb_tests:\n",
    "                break\n",
    "    f.close()\n",
    "    return np.array(output)"
   ],
   "outputs": [],
   "execution_count": 4
  },
  {
   "cell_type": "markdown",
   "metadata": {},
   "source": [
    "## Loading images\n",
    "\n",
    "We first load MNIST data from keras dataset."
   ]
  },
  {
   "cell_type": "code",
   "metadata": {
    "ExecuteTime": {
     "end_time": "2025-05-13T06:46:13.335319Z",
     "start_time": "2025-05-13T06:46:11.034688Z"
    }
   },
   "source": [
    "img_rows, img_cols = 28, 28\n",
    "(x_train, y_train_), (x_test, y_test_) = mnist.load_data()\n",
    "x_train = x_train.reshape((-1, 784))\n",
    "x_test = x_test.reshape((-1, 784))\n",
    "x_train = x_train.astype(\"float32\")\n",
    "x_test = x_test.astype(\"float32\")\n",
    "x_train /= 255.0\n",
    "x_test /= 255.0\n",
    "y_train = keras.utils.to_categorical(y_train_)\n",
    "y_test = keras.utils.to_categorical(y_test_)\n",
    "\n",
    "x_train = np.array([x.reshape((28,28)) for x in x_train])\n",
    "x_test = np.array([x.reshape((28,28)) for x in x_test])"
   ],
   "outputs": [
    {
     "name": "stdout",
     "output_type": "stream",
     "text": [
      "Downloading data from https://storage.googleapis.com/tensorflow/tf-keras-datasets/mnist.npz\n",
      "11490434/11490434 [==============================] - 1s 0us/step\n"
     ]
    }
   ],
   "execution_count": 5
  },
  {
   "cell_type": "markdown",
   "metadata": {},
   "source": [
    "## Generating a test input\n",
    "\n",
    "We select a few random images to use as support for the later parts of the notebook."
   ]
  },
  {
   "cell_type": "code",
   "metadata": {
    "ExecuteTime": {
     "end_time": "2025-05-13T06:50:20.297095Z",
     "start_time": "2025-05-13T06:50:19.167623Z"
    }
   },
   "source": [
    "nb_col = 5\n",
    "nb_row = 2\n",
    "nb_samples = nb_col*nb_row\n",
    "indexes = np.random.permutation(len(x_test))[:nb_samples]\n",
    "\n",
    "inputs = x_test[indexes]\n",
    "\n",
    "fig,axs = plt.subplots(nb_row,nb_col)\n",
    "\n",
    "for i in range(nb_row):\n",
    "    for j in range(nb_col):\n",
    "        ax = axs[i,j]\n",
    "        ax.imshow(inputs[i*nb_col+j], cmap=\"gray\")"
   ],
   "outputs": [
    {
     "data": {
      "text/plain": [
       "<Figure size 2000x800 with 10 Axes>"
      ],
      "image/png": "[encoded data removed]"
     },
     "metadata": {},
     "output_type": "display_data"
    }
   ],
   "execution_count": 29
  },
  {
   "cell_type": "markdown",
   "metadata": {},
   "source": [
    "## Defining common parameters and training the model\n",
    "\n",
    "We then prepare the CodeGenerator's initialization parameters and train the model."
   ]
  },
  {
   "cell_type": "code",
   "metadata": {
    "ExecuteTime": {
     "end_time": "2025-05-13T06:46:16.910278Z",
     "start_time": "2025-05-13T06:46:14.761405Z"
    }
   },
   "source": [
    "# Path to the model\n",
    "model_path = PATH_DIR / \"lenet5_trained.h5\"\n",
    "model = keras.models.load_model(model_path)\n",
    "model.compile(\"adam\", \"categorical_crossentropy\", metrics=[\"acc\"])"
   ],
   "outputs": [
    {
     "name": "stderr",
     "output_type": "stream",
     "text": [
      "2025-05-13 08:46:15.822322: W tensorflow/core/common_runtime/gpu/gpu_device.cc:1956] Cannot dlopen some GPU libraries. Please make sure the missing libraries mentioned above are installed properly if you would like to use GPU. Follow the guide at https://www.tensorflow.org/install/gpu for how to download and setup the required libraries for your platform.\n",
      "Skipping registering GPU devices...\n"
     ]
    },
    {
     "name": "stdout",
     "output_type": "stream",
     "text": [
      "WARNING:tensorflow:No training configuration found in the save file, so the model was *not* compiled. Compile it manually.\n"
     ]
    }
   ],
   "execution_count": 7
  },
  {
   "cell_type": "code",
   "metadata": {
    "ExecuteTime": {
     "end_time": "2025-05-13T06:46:42.643811Z",
     "start_time": "2025-05-13T06:46:16.939798Z"
    }
   },
   "source": [
    "model.fit(x_train, y_train, batch_size=32, shuffle=True, validation_split=0.2, epochs=3)\n",
    "model.evaluate(x_test, y_test, batch_size=32)"
   ],
   "outputs": [
    {
     "name": "stderr",
     "output_type": "stream",
     "text": [
      "2025-05-13 08:46:16.942660: W tensorflow/tsl/framework/cpu_allocator_impl.cc:83] Allocation of 150528000 exceeds 10% of free system memory.\n"
     ]
    },
    {
     "name": "stdout",
     "output_type": "stream",
     "text": [
      "Epoch 1/3\n",
      "  23/1500 [..............................] - ETA: 6s - loss: 0.0088 - acc: 0.9973"
     ]
    },
    {
     "name": "stderr",
     "output_type": "stream",
     "text": [
      "2025-05-13 08:46:19.281059: W tensorflow/tsl/framework/cpu_allocator_impl.cc:83] Allocation of 23193600 exceeds 10% of free system memory.\n",
      "2025-05-13 08:46:19.281112: W tensorflow/tsl/framework/cpu_allocator_impl.cc:83] Allocation of 23193600 exceeds 10% of free system memory.\n",
      "2025-05-13 08:46:19.282908: W tensorflow/tsl/framework/cpu_allocator_impl.cc:83] Allocation of 25171200 exceeds 10% of free system memory.\n",
      "2025-05-13 08:46:19.333809: W tensorflow/tsl/framework/cpu_allocator_impl.cc:83] Allocation of 23193600 exceeds 10% of free system memory.\n"
     ]
    },
    {
     "name": "stdout",
     "output_type": "stream",
     "text": [
      "1500/1500 [==============================] - 9s 5ms/step - loss: 0.0190 - acc: 0.9936 - val_loss: 0.0267 - val_acc: 0.9909\n",
      "Epoch 2/3\n",
      "1500/1500 [==============================] - 7s 5ms/step - loss: 0.0187 - acc: 0.9933 - val_loss: 0.0325 - val_acc: 0.9891\n",
      "Epoch 3/3\n",
      "1500/1500 [==============================] - 8s 5ms/step - loss: 0.0123 - acc: 0.9962 - val_loss: 0.0228 - val_acc: 0.9927\n",
      "313/313 [==============================] - 1s 2ms/step - loss: 0.0514 - acc: 0.9852\n"
     ]
    },
    {
     "data": {
      "text/plain": [
       "[0.05135136842727661, 0.9851999878883362]"
      ]
     },
     "execution_count": 8,
     "metadata": {},
     "output_type": "execute_result"
    }
   ],
   "execution_count": 8
  },
  {
   "cell_type": "markdown",
   "metadata": {},
   "source": [
    "The model has an accuracy of `0.98`, which means that out of 100 images, 98 will be well labeled. we will now generate the C code while preserving its semantics.\n",
    "\n",
    "With our test inputs, we have:"
   ]
  },
  {
   "metadata": {
    "ExecuteTime": {
     "end_time": "2025-05-13T06:52:34.703622Z",
     "start_time": "2025-05-13T06:52:34.623051Z"
    }
   },
   "cell_type": "code",
   "source": [
    "# Inference\n",
    "keras_outputs = model.predict(inputs)\n",
    "# The index of the highest scores represents the label\n",
    "keras_labels = keras_outputs.argmax(axis=-1)\n",
    "\n",
    "print(f\"The labels are: {keras_labels}\")"
   ],
   "outputs": [
    {
     "name": "stdout",
     "output_type": "stream",
     "text": [
      "1/1 [==============================] - 0s 25ms/step\n",
      "The labels are: [0 6 7 5 9 6 7 0 4 6]\n"
     ]
    }
   ],
   "execution_count": 32
  },
  {
   "metadata": {
    "ExecuteTime": {
     "end_time": "2025-05-13T06:46:42.694838Z",
     "start_time": "2025-05-13T06:46:42.687796Z"
    }
   },
   "cell_type": "code",
   "source": [
    "# Path to the input file\n",
    "dataset = Path(\"./lenet_inputs.txt\")\n",
    "write_input(inputs, nb_samples, dataset)\n",
    "# Function name\n",
    "function_name = \"demo_lenet\"\n",
    "# Number of tests\n",
    "nb_tests = nb_samples"
   ],
   "outputs": [],
   "execution_count": 9
  },
  {
   "cell_type": "markdown",
   "metadata": {},
   "source": [
    "## Using ACETONE's native implementations\n",
    "\n",
    "The framework laready provides, for some layers, several versions from which to choose before generating our code."
   ]
  },
  {
   "cell_type": "code",
   "metadata": {
    "ExecuteTime": {
     "end_time": "2025-05-13T06:46:42.751719Z",
     "start_time": "2025-05-13T06:46:42.746389Z"
    }
   },
   "source": [
    "implemented = list_all_implementations()\n",
    "for layer_name in implemented:\n",
    "    print(layer_name,\":\")\n",
    "    for implementation in implemented[layer_name]:\n",
    "        print(\"   \", implementation)\n",
    "    print(\"\\n\")"
   ],
   "outputs": [
    {
     "name": "stdout",
     "output_type": "stream",
     "text": [
      "Conv2D :\n",
      "    6loops\n",
      "    indirect_gemm_nn\n",
      "    indirect_gemm_tn\n",
      "    indirect_gemm_nt\n",
      "    indirect_gemm_tt\n",
      "    std_gemm_nn\n",
      "    std_gemm_tn\n",
      "    std_gemm_nt\n",
      "    std_gemm_tt\n",
      "\n",
      "\n"
     ]
    }
   ],
   "execution_count": 10
  },
  {
   "cell_type": "markdown",
   "metadata": {},
   "source": [
    "## Create an ACETONE CodeGenerator from the model\n",
    "\n",
    "Let's focus on the convolution layer.\n",
    "\n",
    "The 3 main algorithms provided by ACETONE for the convolution are: *6loops*, *std_gemm* and *indirect_gemm*.\n",
    "\n",
    "The first algorithm implements the naive version of a convolution: a triple loop iters all the indices of the ouput, and for each of this indices another triple loop compute the value using the input tensor and the kernel, as illustrated below (for a 2D example).\n",
    "\n",
    "![Conv_6loops](./data/conv_6loops.gif \"segment\")\n",
    "\n",
    "(Figure excerpt from [https://www.geeksforgeeks.org/apply-a-2d-convolution-operation-in-pytorch/](https://www.geeksforgeeks.org/apply-a-2d-convolution-operation-in-pytorch/))\n",
    "\n",
    "We can change the implementation of a specific type of layer by using the class **CodeGenerator**'s argument `versions`.\n",
    "This argument takes a dictionary containing a reference to the layer (usually the name) as key and the version's name as value."
   ]
  },
  {
   "cell_type": "code",
   "metadata": {
    "ExecuteTime": {
     "end_time": "2025-05-13T06:46:42.901491Z",
     "start_time": "2025-05-13T06:46:42.806390Z"
    }
   },
   "source": [
    "# Create an ACETONE CodeGenerator from the model\n",
    "loops_generator = CodeGenerator(\n",
    "    file=model,\n",
    "    function_name=function_name,\n",
    "    external_input=True,\n",
    "    versions={\"Conv2D\":\"6loops\"},\n",
    "    nb_tests=nb_tests,\n",
    "    verbose=False,\n",
    ")"
   ],
   "outputs": [
    {
     "name": "stdout",
     "output_type": "stream",
     "text": [
      "Finished model initialization.\n"
     ]
    }
   ],
   "execution_count": 11
  },
  {
   "cell_type": "code",
   "metadata": {
    "ExecuteTime": {
     "end_time": "2025-05-13T06:46:43.024517Z",
     "start_time": "2025-05-13T06:46:42.927376Z"
    }
   },
   "source": [
    "loops_generator.generate_c_files(loops_output_path)"
   ],
   "outputs": [],
   "execution_count": 12
  },
  {
   "cell_type": "markdown",
   "metadata": {},
   "source": [
    "The second algorithm, *std_gemm*, uses the standard gemm (as the name suggests) to compute the convolution. In the generated C code, the convolution is divided in two main parts: the creation of the matrix of patches from the input then the multiplication of the resulting matrix with the kernel matrix.\n",
    "\n",
    "![Conv_std_gemm](./data/std_gemm.png)\n",
    "\n",
    "(Figure excerpt from [*Extending a predictable machine learning framework with efficient gemm-based convolution routines*](https://theses.hal.science/ONERA-MIP/hal-04627347v1) written by Iryna De Albuquerque Silva, Thomas Carle, Adrien Gauffriau and Claire Pagetti)"
   ]
  },
  {
   "cell_type": "code",
   "metadata": {
    "ExecuteTime": {
     "end_time": "2025-05-13T06:46:43.054014Z",
     "start_time": "2025-05-13T06:46:43.044466Z"
    }
   },
   "source": [
    "# Create an ACETONE CodeGenerator from the model\n",
    "std_gemm_generator = CodeGenerator(\n",
    "    file=model,\n",
    "    function_name=function_name,\n",
    "    external_input=True,\n",
    "    versions={\"Conv2D\":\"std_gemm_nn\"},\n",
    "    nb_tests=nb_tests,\n",
    "    verbose=False,\n",
    ")"
   ],
   "outputs": [
    {
     "name": "stdout",
     "output_type": "stream",
     "text": [
      "Finished model initialization.\n"
     ]
    }
   ],
   "execution_count": 13
  },
  {
   "cell_type": "code",
   "metadata": {
    "ExecuteTime": {
     "end_time": "2025-05-13T06:46:43.183954Z",
     "start_time": "2025-05-13T06:46:43.106084Z"
    }
   },
   "source": [
    "std_gemm_generator.generate_c_files(std_gemm_output_path)"
   ],
   "outputs": [],
   "execution_count": 14
  },
  {
   "cell_type": "markdown",
   "metadata": {},
   "source": [
    "The third algorithm is another implementation of the gemm algorithm. Instead of computing the patches matrix during the execution of the C code, the framework computes before the generation and adds to the code a matrix of pointers, each referring to the corresponding element in the input tensor. The `im2col` operation is then included in the pointer matrix instead of being computed during execution.\n",
    "\n",
    "![Conv_indirect_gemm](./data/indirect_gemm.png)\n",
    "\n",
    "(Figure excerpt from [*Extending a predictable machine learning framework with efficient gemm-based convolution routines*](https://theses.hal.science/ONERA-MIP/hal-04627347v1) written by Iryna De Albuquerque Silva, Thomas Carle, Adrien Gauffriau and Claire Pagetti)"
   ]
  },
  {
   "cell_type": "code",
   "metadata": {
    "ExecuteTime": {
     "end_time": "2025-05-13T06:46:43.220132Z",
     "start_time": "2025-05-13T06:46:43.211591Z"
    }
   },
   "source": [
    "# Create an ACETONE CodeGenerator from the model\n",
    "indirect_gemm_generator = CodeGenerator(\n",
    "    file=model,\n",
    "    function_name=function_name,\n",
    "    external_input=True,\n",
    "    versions={\"Conv2D\":\"indirect_gemm_nn\"},\n",
    "    nb_tests=nb_tests,\n",
    "    verbose=False,\n",
    "    )"
   ],
   "outputs": [
    {
     "name": "stdout",
     "output_type": "stream",
     "text": [
      "Finished model initialization.\n"
     ]
    }
   ],
   "execution_count": 15
  },
  {
   "cell_type": "code",
   "metadata": {
    "ExecuteTime": {
     "end_time": "2025-05-13T06:46:43.377474Z",
     "start_time": "2025-05-13T06:46:43.271684Z"
    }
   },
   "source": [
    "indirect_gemm_generator.generate_c_files(indirect_gemm_output_path)"
   ],
   "outputs": [
    {
     "name": "stdout",
     "output_type": "stream",
     "text": [
      "Conv2D 1 patches size: (14400,)\n",
      "Conv2D 3 patches size: (9600,)\n"
     ]
    }
   ],
   "execution_count": 16
  },
  {
   "cell_type": "markdown",
   "metadata": {},
   "source": [
    "We can now compile and run those generated code to ensure that the semantic was indeed preserved."
   ]
  },
  {
   "cell_type": "code",
   "metadata": {
    "ExecuteTime": {
     "end_time": "2025-05-13T06:46:45.329670Z",
     "start_time": "2025-05-13T06:46:43.405548Z"
    }
   },
   "source": [
    "# Compiling the code\n",
    "! make -C demo_lenet_6loops all\n",
    "\n",
    "# Running the executable\n",
    "! ./demo_lenet_6loops/demo_lenet ./demo_lenet_6loops/output_c.txt ./lenet_inputs.txt"
   ],
   "outputs": [
    {
     "name": "stdout",
     "output_type": "stream",
     "text": [
      "make: Entering directory '/tmp_user/ldtim610h/yaitaiss/acetone/tutorials/demo_lenet_6loops'\r\n",
      "gcc  -g -w -lm   -c -o inference.o inference.c\r\n",
      "gcc  -g -w -lm   -c -o global_vars.o global_vars.c\r\n",
      "gcc  -g -w -lm   -c -o main.o main.c\r\n",
      "gcc   -o demo_lenet inference.o global_vars.o main.o  inference.h test_dataset.h   -g -w -lm\r\n",
      "make: Leaving directory '/tmp_user/ldtim610h/yaitaiss/acetone/tutorials/demo_lenet_6loops'\r\n"
     ]
    }
   ],
   "execution_count": 17
  },
  {
   "cell_type": "code",
   "metadata": {
    "ExecuteTime": {
     "end_time": "2025-05-13T06:46:46.086891Z",
     "start_time": "2025-05-13T06:46:45.351201Z"
    }
   },
   "source": [
    "# Compiling the code\n",
    "! make -C demo_lenet_std_gemm all\n",
    "\n",
    "# Running the executable\n",
    "! ./demo_lenet_std_gemm/demo_lenet ./demo_lenet_std_gemm/output_c.txt ./lenet_inputs.txt"
   ],
   "outputs": [
    {
     "name": "stdout",
     "output_type": "stream",
     "text": [
      "make: Entering directory '/tmp_user/ldtim610h/yaitaiss/acetone/tutorials/demo_lenet_std_gemm'\r\n",
      "gcc  -g -w -lm   -c -o inference.o inference.c\r\n",
      "gcc  -g -w -lm   -c -o global_vars.o global_vars.c\r\n",
      "gcc  -g -w -lm   -c -o main.o main.c\r\n",
      "gcc   -o demo_lenet inference.o global_vars.o main.o  inference.h test_dataset.h   -g -w -lm\r\n",
      "make: Leaving directory '/tmp_user/ldtim610h/yaitaiss/acetone/tutorials/demo_lenet_std_gemm'\r\n"
     ]
    }
   ],
   "execution_count": 18
  },
  {
   "cell_type": "code",
   "metadata": {
    "ExecuteTime": {
     "end_time": "2025-05-13T06:46:46.930476Z",
     "start_time": "2025-05-13T06:46:46.108162Z"
    }
   },
   "source": [
    "# Compiling the code\n",
    "! make -C demo_lenet_indirect_gemm all\n",
    "\n",
    "# Running the executable\n",
    "! ./demo_lenet_indirect_gemm/demo_lenet ./demo_lenet_indirect_gemm/output_c.txt ./lenet_inputs.txt"
   ],
   "outputs": [
    {
     "name": "stdout",
     "output_type": "stream",
     "text": [
      "make: Entering directory '/tmp_user/ldtim610h/yaitaiss/acetone/tutorials/demo_lenet_indirect_gemm'\r\n",
      "gcc  -g -w -lm   -c -o inference.o inference.c\r\n",
      "gcc  -g -w -lm   -c -o global_vars.o global_vars.c\r\n",
      "gcc  -g -w -lm   -c -o main.o main.c\r\n",
      "gcc   -o demo_lenet inference.o global_vars.o main.o  inference.h test_dataset.h   -g -w -lm\r\n",
      "make: Leaving directory '/tmp_user/ldtim610h/yaitaiss/acetone/tutorials/demo_lenet_indirect_gemm'\r\n"
     ]
    }
   ],
   "execution_count": 19
  },
  {
   "cell_type": "code",
   "metadata": {
    "ExecuteTime": {
     "end_time": "2025-05-13T06:46:46.956991Z",
     "start_time": "2025-05-13T06:46:46.952832Z"
    }
   },
   "source": [
    "cli_compare(reference_file=(indirect_gemm_output_path / \"output_c.txt\"), c_file=(std_gemm_output_path / \"output_c.txt\"), nb_tests=nb_tests)"
   ],
   "outputs": [
    {
     "name": "stdout",
     "output_type": "stream",
     "text": [
      "    Max absolute error for 10 test(s): 0.0\n",
      "    Max relative error for 10 test(s): 0.0\n",
      "\n"
     ]
    }
   ],
   "execution_count": 20
  },
  {
   "cell_type": "code",
   "metadata": {
    "ExecuteTime": {
     "end_time": "2025-05-13T06:51:04.582972Z",
     "start_time": "2025-05-13T06:51:04.560362Z"
    }
   },
   "source": [
    "loops_output = extract_outputs_c(path_to_output=(loops_output_path / \"output_c.txt\"), nb_tests=nb_tests)\n",
    "std_gemm_output = extract_outputs_c(path_to_output=(std_gemm_output_path / \"output_c.txt\"), nb_tests=nb_tests)\n",
    "indirect_gemm_output = extract_outputs_c(path_to_output=(indirect_gemm_output_path / \"output_c.txt\"), nb_tests=nb_tests)\n",
    "\n",
    "loops_labels = loops_output.argmax(axis = -1)\n",
    "std_gemm_labels = std_gemm_output.argmax(axis = -1)\n",
    "indirect_gemm_labels = indirect_gemm_output.argmax(axis = -1)\n",
    "\n",
    "\n",
    "print(\"Labels given by the inference:\")\n",
    "for i in range(nb_row):\n",
    "    for j in range(nb_col):\n",
    "        ax = axs[i,j]\n",
    "        ax.imshow(inputs[i*nb_col+j], cmap=\"gray\")\n",
    "        print(f\"sample at position ({i},{j}) : \")\n",
    "        print(f\"    keras :         {keras_labels[i*nb_col+j]}\")\n",
    "        print(f\"    6loops :        {loops_labels[i*nb_col + j]}\")\n",
    "        print(f\"    std_gemm :      {std_gemm_labels[i*nb_col + j]}\")\n",
    "        print(f\"    indirect_gemm : {indirect_gemm_labels[i*nb_col + j]}\")"
   ],
   "outputs": [
    {
     "name": "stdout",
     "output_type": "stream",
     "text": [
      "Labels given by the inference:\n",
      "sample at position (0,0) : \n",
      "    keras :         0\n",
      "    6loops :        3\n",
      "    std_gemm :      3\n",
      "    indirect_gemm : 3\n",
      "sample at position (0,1) : \n",
      "    keras :         6\n",
      "    6loops :        4\n",
      "    std_gemm :      4\n",
      "    indirect_gemm : 4\n",
      "sample at position (0,2) : \n",
      "    keras :         7\n",
      "    6loops :        5\n",
      "    std_gemm :      5\n",
      "    indirect_gemm : 5\n",
      "sample at position (0,3) : \n",
      "    keras :         5\n",
      "    6loops :        9\n",
      "    std_gemm :      9\n",
      "    indirect_gemm : 9\n",
      "sample at position (0,4) : \n",
      "    keras :         9\n",
      "    6loops :        8\n",
      "    std_gemm :      8\n",
      "    indirect_gemm : 8\n",
      "sample at position (1,0) : \n",
      "    keras :         6\n",
      "    6loops :        8\n",
      "    std_gemm :      8\n",
      "    indirect_gemm : 8\n",
      "sample at position (1,1) : \n",
      "    keras :         7\n",
      "    6loops :        6\n",
      "    std_gemm :      6\n",
      "    indirect_gemm : 6\n",
      "sample at position (1,2) : \n",
      "    keras :         0\n",
      "    6loops :        8\n",
      "    std_gemm :      8\n",
      "    indirect_gemm : 8\n",
      "sample at position (1,3) : \n",
      "    keras :         4\n",
      "    6loops :        4\n",
      "    std_gemm :      4\n",
      "    indirect_gemm : 4\n",
      "sample at position (1,4) : \n",
      "    keras :         6\n",
      "    6loops :        3\n",
      "    std_gemm :      3\n",
      "    indirect_gemm : 3\n"
     ]
    }
   ],
   "execution_count": 31
  },
  {
   "cell_type": "markdown",
   "metadata": {},
   "source": [
    "The generated code gives indeed the same label for all the implementations."
   ]
  },
  {
   "cell_type": "markdown",
   "metadata": {},
   "source": [
    "## Adding a new implementation\n",
    "\n",
    "Let's now assume that, after studies and tests, we have found a new way to perform a convolution : setting each element of the output to `0.42`.\n",
    "\n",
    "This method being far more efficient and simple than any other, we want to use it with ACETONE. But, sadly, the framework doesn't have an implementation for it, we have to add it ourselves."
   ]
  },
  {
   "cell_type": "code",
   "metadata": {
    "ExecuteTime": {
     "end_time": "2025-05-13T06:46:47.092754Z",
     "start_time": "2025-05-13T06:46:47.088447Z"
    }
   },
   "source": [
    "# Printing all the algorithm implemented in ACETONE for a convolution\n",
    "print(\"Base implementations : \")\n",
    "print(conv2d_factory.list_implementations)"
   ],
   "outputs": [
    {
     "name": "stdout",
     "output_type": "stream",
     "text": [
      "Base implementations : \n",
      "['6loops', 'indirect_gemm_nn', 'indirect_gemm_tn', 'indirect_gemm_nt', 'indirect_gemm_tt', 'std_gemm_nn', 'std_gemm_tn', 'std_gemm_nt', 'std_gemm_tt']\n"
     ]
    }
   ],
   "execution_count": 22
  },
  {
   "cell_type": "markdown",
   "metadata": {},
   "source": [
    "To implement it, we have to create a new class inheriting from the `Conv2D` class (or one of its child classes).\n",
    "\n",
    "* The first method we must implement is called `generate_inference_code`. This method will construct the C code correponding to the layer, and return it as a string.\n",
    "* The second method, `forwad_path_layer`, is optional. It tell the framework how to compute the output of the layer unsing Pyhton. If not given, the method defined in the parent class is used.\n",
    "\n"
   ]
  },
  {
   "cell_type": "code",
   "metadata": {
    "ExecuteTime": {
     "end_time": "2025-05-13T06:46:47.159621Z",
     "start_time": "2025-05-13T06:46:47.154065Z"
    }
   },
   "source": [
    "# Creating a new implementation\n",
    "class Conv2D_Demo(Conv2D):\n",
    "\n",
    "    def __init__(self, **kwargs: int) -> None:\n",
    "        \"\"\"Build a Convolution layer with a demo implementation.\"\"\"\n",
    "        super().__init__(**kwargs)\n",
    "    \n",
    "    def generate_inference_code_layer(self) -> str:\n",
    "        \"\"\"Generate computation code for layer.\"\"\"\n",
    "        input_str = [prev_layer.output_str for prev_layer in self.previous_layer]\n",
    "        ouptut_str = f\"output_{self.path}\"\n",
    "\n",
    "        code_str =  \"    // {{name}}_{{idx}}\\n    for (k = 0; k < {{size}}; ++k) {{output_str}}[k] = 0.42;\"\n",
    "        return pystache.render(code_str,{\"name\":self.name, \"idx\":self.idx, \"size\":self.size,\"output_str\":ouptut_str})\n",
    "    \n",
    "    def forward_path_layer(self, input_array) -> np.ndarray:\n",
    "        return 0.42*np.ones((1,self.output_channels,self.output_height,self.output_width))"
   ],
   "outputs": [],
   "execution_count": 23
  },
  {
   "cell_type": "markdown",
   "metadata": {},
   "source": "When parsing the neural network, each time ACETONE encounters a layer having several versions, it places a temporary layers. Once the model is completely extracted, those placeholders are then replaced by a definitive layer with the correct implementation, simply by extracting the values stored (such as weight, size, biases, ...) and using them to initialize a new layer."
  },
  {
   "cell_type": "code",
   "metadata": {
    "ExecuteTime": {
     "end_time": "2025-05-13T06:46:47.223911Z",
     "start_time": "2025-05-13T06:46:47.219171Z"
    }
   },
   "source": [
    "# Creating a Conv2D_Demo layer using the attributes of old_layer\n",
    "def conv2d_demo_implementation(\n",
    "        old_layer: Conv2D,\n",
    "        conv_algo: str,\n",
    ") -> Conv2D_Demo:\n",
    "    return Conv2D_Demo(\n",
    "        idx=old_layer.idx,\n",
    "        conv_algorithm=conv_algo,\n",
    "        size=old_layer.size,\n",
    "        padding=old_layer.padding,\n",
    "        strides=old_layer.strides,\n",
    "        kernel_h=old_layer.kernel_h,\n",
    "        kernel_w=old_layer.kernel_w,\n",
    "        dilation_rate=old_layer.dilation_rate,\n",
    "        nb_filters=old_layer.nb_filters,\n",
    "        input_shape=[1, old_layer.input_channels, old_layer.input_height, old_layer.input_width],\n",
    "        output_shape=[1, old_layer.output_channels, old_layer.output_height, old_layer.output_width],\n",
    "        weights=old_layer.weights,\n",
    "        biases=old_layer.biases,\n",
    "        activation_function=old_layer.activation_function,\n",
    "    )"
   ],
   "outputs": [],
   "execution_count": 24
  },
  {
   "cell_type": "markdown",
   "metadata": {},
   "source": [
    "Finally, to add the newly created implementation to ACETONE, we need to register it within the layer's version manager."
   ]
  },
  {
   "cell_type": "code",
   "metadata": {
    "ExecuteTime": {
     "end_time": "2025-05-13T06:46:47.283823Z",
     "start_time": "2025-05-13T06:46:47.279963Z"
    }
   },
   "source": [
    "conv2d_factory.register_implementation(\"demo\", conv2d_demo_implementation)\n",
    "\n",
    "print(\"Updated implementations : \")\n",
    "print(conv2d_factory.list_implementations)"
   ],
   "outputs": [
    {
     "name": "stdout",
     "output_type": "stream",
     "text": [
      "Updated implementations : \n",
      "['6loops', 'indirect_gemm_nn', 'indirect_gemm_tn', 'indirect_gemm_nt', 'indirect_gemm_tt', 'std_gemm_nn', 'std_gemm_tn', 'std_gemm_nt', 'std_gemm_tt', 'demo']\n"
     ]
    }
   ],
   "execution_count": 25
  },
  {
   "cell_type": "markdown",
   "metadata": {},
   "source": [
    "The new version being available in the list of implementations, we can now use it to generate code."
   ]
  },
  {
   "cell_type": "code",
   "metadata": {
    "ExecuteTime": {
     "end_time": "2025-05-13T06:46:47.420588Z",
     "start_time": "2025-05-13T06:46:47.347879Z"
    }
   },
   "source": [
    "# Create an ACETONE CodeGenerator from the model\n",
    "demo_generator = CodeGenerator(file=model,\n",
    "                                    function_name=function_name,\n",
    "                                    external_input=True,\n",
    "                                    versions={\"Conv2D\":\"demo\"},\n",
    "                                    nb_tests=nb_tests,\n",
    "                                    verbose=False)\n",
    "\n",
    "demo_generator.generate_c_files(demo_output_path)"
   ],
   "outputs": [
    {
     "name": "stdout",
     "output_type": "stream",
     "text": [
      "Finished model initialization.\n"
     ]
    }
   ],
   "execution_count": 26
  },
  {
   "cell_type": "markdown",
   "metadata": {},
   "source": [
    "The code then has the optimized implementation and is ready to be deployed on any target !"
   ]
  },
  {
   "cell_type": "markdown",
   "metadata": {},
   "source": [
    "# Study Case\n",
    "\n",
    "Comparing the outputs of a random dataset is great for tests, but not really demonstratif and adapted to a tutorial like this one. \n",
    "\n",
    "To illustrate the conservation of semantics between the different versions seen, we'll use the MNIST dataset."
   ]
  },
  {
   "cell_type": "markdown",
   "metadata": {},
   "source": [
    "# Playing a bit more\n",
    "\n",
    "Let's now try with several set of inputs from the MNIST dataset."
   ]
  },
  {
   "cell_type": "code",
   "metadata": {
    "ExecuteTime": {
     "end_time": "2025-05-13T07:06:39.312807Z",
     "start_time": "2025-05-13T07:06:36.854590Z"
    }
   },
   "source": [
    "# Selecting new inputs\n",
    "indexes = np.random.permutation(len(x_test))[:nb_samples]\n",
    "inputs = x_test[indexes]\n",
    "write_input(inputs, nb_samples, dataset)\n",
    "\n",
    "# Keras inference and labels\n",
    "keras_outputs = model.predict(inputs)\n",
    "keras_labels = keras_outputs.argmax(axis=-1)\n",
    "\n",
    "# ACETONE's inference with the 3 versions\n",
    "! ./demo_lenet_6loops/demo_lenet ./demo_lenet_6loops/output_c.txt ./lenet_inputs.txt\n",
    "! ./demo_lenet_std_gemm/demo_lenet ./demo_lenet_std_gemm/output_c.txt ./lenet_inputs.txt\n",
    "! ./demo_lenet_indirect_gemm/demo_lenet ./demo_lenet_indirect_gemm/output_c.txt ./lenet_inputs.txt\n",
    "\n",
    "# Extracting the scores\n",
    "loops_output = extract_outputs_c(path_to_output=(loops_output_path / \"output_c.txt\"), nb_tests=nb_tests)\n",
    "std_gemm_output = extract_outputs_c(path_to_output=(std_gemm_output_path / \"output_c.txt\"), nb_tests=nb_tests)\n",
    "indirect_gemm_output = extract_outputs_c(path_to_output=(indirect_gemm_output_path / \"output_c.txt\"), nb_tests=nb_tests)\n",
    "\n",
    "# Getting the labels\n",
    "loops_labels = loops_output.argmax(axis = -1)\n",
    "std_gemm_labels = std_gemm_output.argmax(axis = -1)\n",
    "indirect_gemm_labels = indirect_gemm_output.argmax(axis = -1)\n",
    "\n",
    "# Comparing the results\n",
    "max_rel_error = 0.0\n",
    "max_abs_error = 0.0\n",
    "for i in range(nb_samples):\n",
    "    for k in range(10):\n",
    "        diff = abs(keras_outputs[i,k] - loops_output[i,k])\n",
    "        norm = abs(keras_outputs[i,k]) + abs(loops_output[i,k])\n",
    "        max_abs_error = max(max_abs_error , diff)\n",
    "        if norm != 0:\n",
    "            max_rel_error = max(max_rel_error, diff/(norm/2))\n",
    "\n",
    "print(\"Difference between loops implementation and standard gemm implementation:\")\n",
    "cli_compare(reference_file=(loops_output_path / \"output_c.txt\"), c_file=(std_gemm_output_path / \"output_c.txt\"), nb_tests=nb_tests)\n",
    "print(\"Difference between indirect gemm implementation and standard gemm implementation:\")\n",
    "cli_compare(reference_file=(indirect_gemm_output_path / \"output_c.txt\"), c_file=(std_gemm_output_path / \"output_c.txt\"), nb_tests=nb_tests)\n",
    "\n",
    "print(\"Comparing Keras and ACETONE's results :\")\n",
    "print(\"Maximal absolute error between them : \",max_abs_error)\n",
    "print(\"Maximal relative error between them : \",max_rel_error)\n",
    "\n",
    "fig,axs = plt.subplots(nb_row,nb_col)\n",
    "fig.suptitle(\"Label given by : Keras-6loops-std_gemm-indirect_gemm\")\n",
    "for i in range(nb_row):\n",
    "    for j in range(nb_col):\n",
    "        ax = axs[i,j]\n",
    "        ax.imshow(inputs[i*nb_col+j], cmap=\"gray\")\n",
    "        ax.set_title(f\"{keras_labels[i*nb_col+j]}-{loops_labels[i*nb_col+j]}-{std_gemm_labels[i*nb_col+j]}-{indirect_gemm_labels[i*nb_col+j]}\")\n",
    "\n"
   ],
   "outputs": [
    {
     "name": "stdout",
     "output_type": "stream",
     "text": [
      "1/1 [==============================] - 0s 15ms/step\n",
      "Difference between loops implementation and standard gemm implementation:\n",
      "    Max absolute error for 10 test(s): 0.0\n",
      "    Max relative error for 10 test(s): 0.0\n",
      "\n",
      "Difference between indirect gemm implementation and standard gemm implementation:\n",
      "    Max absolute error for 10 test(s): 0.0\n",
      "    Max relative error for 10 test(s): 0.0\n",
      "\n",
      "Comparing Keras and ACETONE's results :\n",
      "Maximal absolute error between them :  2.384185791015625e-07\n",
      "Maximal relative error between them :  3.920215288423102e-06\n"
     ]
    },
    {
     "data": {
      "text/plain": [
       "<Figure size 2000x800 with 10 Axes>"
      ],
      "image/png": "[encoded data removed]"
     },
     "metadata": {},
     "output_type": "display_data"
    }
   ],
   "execution_count": 35
  },
  {
   "cell_type": "markdown",
   "metadata": {},
   "source": [
    "All four labels are the same, the semantic is preserved !!"
   ]
  }
 ],
 "metadata": {
  "kernelspec": {
   "display_name": "venv",
   "language": "python",
   "name": "python3"
  },
  "language_info": {
   "codemirror_mode": {
    "name": "ipython",
    "version": 3
   },
   "file_extension": ".py",
   "mimetype": "text/x-python",
   "name": "python",
   "nbconvert_exporter": "python",
   "pygments_lexer": "ipython3",
   "version": "3.10.16"
  }
 },
 "nbformat": 4,
 "nbformat_minor": 2
}
