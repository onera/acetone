{
 "cells": [
  {
   "metadata": {},
   "cell_type": "markdown",
   "source": [
    "# ACETONE tutorial #4\n",
    "\n",
    "**Implementing a new version of a layer**"
   ],
   "id": "4ffb0de7279e1066"
  },
  {
   "metadata": {},
   "cell_type": "markdown",
   "source": [
    "Efficiency is a key aspect in the embedded sector, with each code being specifically adpated to a target. As such, we need to be able to create new implementations for each layer.\n",
    "\n",
    "In this notebook, we'll explain how to create specific versions of a layer with ACETONE and use them.\n",
    "We will then use the mode debug seen in [tutorial #3](./tutorial3_using_debug_mode.ipynb) to correct our implementation\n",
    "\n",
    "* When running this notebook on Colab, we need to install ACETONE\n",
    "* If you run this notebook locally, run it in the environment in which you installed ACETONE"
   ],
   "id": "8bd9cd4f5011b414"
  },
  {
   "metadata": {
    "ExecuteTime": {
     "end_time": "2025-05-13T07:45:27.422157Z",
     "start_time": "2025-05-13T07:45:27.409592Z"
    }
   },
   "cell_type": "code",
   "source": [
    "# Cleaning the working environment\n",
    "from pathlib import Path\n",
    "from os import remove, listdir\n",
    "\n",
    "# Path to the example files\n",
    "PATH_DIR = Path(\"../tests/models/squeezenet1\")\n",
    "\n",
    "# Path to generated directories\n",
    "output_path = Path(\"demo_squeezenet_variants\")\n",
    "\n",
    "def clean_directory(directory):\n",
    "    if directory.exists():\n",
    "        for file in listdir(directory):\n",
    "            if not (directory / file).is_dir():\n",
    "                remove(directory / file)\n",
    "\n",
    "clean_directory(output_path)"
   ],
   "id": "cc5988cb90afb8e1",
   "outputs": [],
   "execution_count": 1
  },
  {
   "metadata": {},
   "cell_type": "markdown",
   "source": [
    "## Imports\n",
    "\n",
    "In this notebook, we'll use as example the model `SqueezeNet 1.0` (with `opset-version==12`) given in [*ONNX's model zoo*](https://github.com/onnx/models?tab=readme-ov-file). The beginning of the model is illustrated below.\n",
    "\n",
    "![squeezenet](./data/squeezenet1.png)\n"
   ],
   "id": "b4c93888b74ffb"
  },
  {
   "metadata": {
    "ExecuteTime": {
     "end_time": "2025-05-13T07:45:39.334300Z",
     "start_time": "2025-05-13T07:45:30.468586Z"
    }
   },
   "cell_type": "code",
   "source": [
    "# Eternal imports\n",
    "import numpy as np\n",
    "import numpy.random as rd\n",
    "import pystache\n",
    "\n",
    "# ACETONE's imports\n",
    "from acetone_nnet import CodeGenerator, conv2d_factory\n",
    "from acetone_nnet import debug\n",
    "from acetone_nnet.generator import Conv2D"
   ],
   "id": "1a1dbe5b5c27d9d0",
   "outputs": [
    {
     "name": "stderr",
     "output_type": "stream",
     "text": [
      "2025-05-13 09:45:31.858450: I tensorflow/tsl/cuda/cudart_stub.cc:28] Could not find cuda drivers on your machine, GPU will not be used.\n",
      "2025-05-13 09:45:31.917285: I tensorflow/tsl/cuda/cudart_stub.cc:28] Could not find cuda drivers on your machine, GPU will not be used.\n",
      "2025-05-13 09:45:31.917970: I tensorflow/core/platform/cpu_feature_guard.cc:182] This TensorFlow binary is optimized to use available CPU instructions in performance-critical operations.\n",
      "To enable the following instructions: AVX2 FMA, in other operations, rebuild TensorFlow with the appropriate compiler flags.\n",
      "2025-05-13 09:45:35.732424: W tensorflow/compiler/tf2tensorrt/utils/py_utils.cc:38] TF-TRT Warning: Could not find TensorRT\n"
     ]
    }
   ],
   "execution_count": 2
  },
  {
   "metadata": {
    "ExecuteTime": {
     "end_time": "2025-05-13T07:45:40.479108Z",
     "start_time": "2025-05-13T07:45:40.473665Z"
    }
   },
   "cell_type": "code",
   "source": [
    "model_path = PATH_DIR / \"squeezenet1.onnx\"\n",
    "test_dataset = np.float32(rd.random((1,3,224,224)))\n",
    "function_name = \"demo_squeezenet\"\n",
    "nb_tests = 1"
   ],
   "id": "3341e56e78b471bd",
   "outputs": [],
   "execution_count": 3
  },
  {
   "metadata": {},
   "cell_type": "markdown",
   "source": [
    "## Adding a new implementation\n",
    "\n",
    "Let's assume that, after studies and tests, we have found a new way to perform a convolution: setting each element of the output to `0.42`.\n",
    "\n",
    "This method being far more efficient and simple than any other, we want to use it with ACETONE. But, sadly, the framework doesn't have an implementation for it, we have to add it ourselves."
   ],
   "id": "14fda9334014a05f"
  },
  {
   "metadata": {
    "ExecuteTime": {
     "end_time": "2025-05-13T07:45:42.814951Z",
     "start_time": "2025-05-13T07:45:42.809647Z"
    }
   },
   "cell_type": "code",
   "source": [
    "# Printing all the algorithm implemented in ACETONE for a convolution\n",
    "print(\"Base implementations : \")\n",
    "print(conv2d_factory.list_implementations)"
   ],
   "id": "8cc25a9cef009416",
   "outputs": [
    {
     "name": "stdout",
     "output_type": "stream",
     "text": [
      "Base implementations : \n",
      "['6loops', 'indirect_gemm_nn', 'indirect_gemm_tn', 'indirect_gemm_nt', 'indirect_gemm_tt', 'std_gemm_nn', 'std_gemm_tn', 'std_gemm_nt', 'std_gemm_tt']\n"
     ]
    }
   ],
   "execution_count": 4
  },
  {
   "metadata": {},
   "cell_type": "markdown",
   "source": [
    "To implement it, we have to create a new class inheriting from the `Conv2D` class (or one of its child classes).\n",
    "\n",
    "* The first method we must implement is called `generate_inference_code`. This method will construct the C code correponding to the layer, and return it as a string.\n",
    "* The second method, `forwad_path_layer`, is optional. It tell the framework how to compute the output of the layer unsing Pyhton. If not given, the method defined in the parent class is used."
   ],
   "id": "a4c31f652f9b29ea"
  },
  {
   "metadata": {
    "ExecuteTime": {
     "end_time": "2025-05-13T07:45:47.203661Z",
     "start_time": "2025-05-13T07:45:47.194003Z"
    }
   },
   "cell_type": "code",
   "source": [
    "# Creating a new implementation\n",
    "class Conv2D_Demo(Conv2D):\n",
    "\n",
    "    def __init__(self, **kwargs: int) -> None:\n",
    "        \"\"\"Build a Convolution layer with a demo implementation.\"\"\"\n",
    "        super().__init__(**kwargs)\n",
    "\n",
    "    def generate_inference_code_layer(self) -> str:\n",
    "        \"\"\"Generate computation code for layer.\"\"\"\n",
    "        input_str = [prev_layer.output_str for prev_layer in self.previous_layer]\n",
    "        ouptut_str = f\"output_{self.path}\"\n",
    "\n",
    "        code_str =  \"    // {{name}}_{{idx}}\\n    for (k = 0; k < {{size}}; ++k) {{output_str}}[k] = 0.42;\"\n",
    "        return pystache.render(code_str,{\"name\":self.name, \"idx\":self.idx, \"size\":self.size,\"output_str\":ouptut_str})\n",
    "\n",
    "    def forward_path_layer(self, input_array) -> np.ndarray:\n",
    "        return 0.42*np.ones((1,self.output_channels,self.output_height,self.output_width))"
   ],
   "id": "aa5018dc944c53d9",
   "outputs": [],
   "execution_count": 6
  },
  {
   "metadata": {},
   "cell_type": "markdown",
   "source": "When parsing the neural network, each time ACETONE encounters a layer having several versions, it places a temporary layers. Once the model is completely extracted, those placeholders are then replaced by a definitive layer with the correct implementation, simply by extracting the values stored (such as weight, size, biases, ...) and using them to initialize a new layer.",
   "id": "2c2bc523e9662129"
  },
  {
   "metadata": {
    "ExecuteTime": {
     "end_time": "2025-05-13T07:45:49.684479Z",
     "start_time": "2025-05-13T07:45:49.676755Z"
    }
   },
   "cell_type": "code",
   "source": [
    "# Creating a Conv2D_Demo layer using the attributes of old_layer\n",
    "def conv2d_demo_implementation(\n",
    "        old_layer: Conv2D,\n",
    "        conv_algo: str,\n",
    ") -> Conv2D_Demo:\n",
    "    return Conv2D_Demo(\n",
    "        idx=old_layer.idx,\n",
    "        conv_algorithm=conv_algo,\n",
    "        size=old_layer.size,\n",
    "        padding=old_layer.padding,\n",
    "        strides=old_layer.strides,\n",
    "        kernel_h=old_layer.kernel_h,\n",
    "        kernel_w=old_layer.kernel_w,\n",
    "        dilation_rate=old_layer.dilation_rate,\n",
    "        nb_filters=old_layer.nb_filters,\n",
    "        input_shape=[1, old_layer.input_channels, old_layer.input_height, old_layer.input_width],\n",
    "        output_shape=[1, old_layer.output_channels, old_layer.output_height, old_layer.output_width],\n",
    "        weights=old_layer.weights,\n",
    "        biases=old_layer.biases,\n",
    "        activation_function=old_layer.activation_function,\n",
    "    )"
   ],
   "id": "6fc2d70f4af47293",
   "outputs": [],
   "execution_count": 7
  },
  {
   "metadata": {},
   "cell_type": "markdown",
   "source": "Finally, to add the newly created implementation to ACETONE, we need to register it within the layer's version manager.",
   "id": "7f41191aa8d0b44e"
  },
  {
   "metadata": {
    "ExecuteTime": {
     "end_time": "2025-05-13T07:45:52.299136Z",
     "start_time": "2025-05-13T07:45:52.293598Z"
    }
   },
   "cell_type": "code",
   "source": [
    "conv2d_factory.register_implementation(\"demo\", conv2d_demo_implementation)\n",
    "\n",
    "print(\"Updated implementations : \")\n",
    "print(conv2d_factory.list_implementations)"
   ],
   "id": "b7509c4bd776cb7c",
   "outputs": [
    {
     "name": "stdout",
     "output_type": "stream",
     "text": [
      "Updated implementations : \n",
      "['6loops', 'indirect_gemm_nn', 'indirect_gemm_tn', 'indirect_gemm_nt', 'indirect_gemm_tt', 'std_gemm_nn', 'std_gemm_tn', 'std_gemm_nt', 'std_gemm_tt', 'demo']\n"
     ]
    }
   ],
   "execution_count": 8
  },
  {
   "metadata": {},
   "cell_type": "markdown",
   "source": "The new version being available in the list of implementations, we can now use it to generate code.",
   "id": "7b6addd7f98eef41"
  },
  {
   "metadata": {
    "ExecuteTime": {
     "end_time": "2025-05-13T07:45:57.064331Z",
     "start_time": "2025-05-13T07:45:55.103256Z"
    }
   },
   "cell_type": "code",
   "source": [
    "# Create an ACETONE CodeGenerator from the model\n",
    "demo_generator = CodeGenerator(file=model_path,\n",
    "                                    function_name=function_name,\n",
    "                                    external_input=True,\n",
    "                                    versions={\"Conv2D\":\"demo\"},\n",
    "                                    nb_tests=nb_tests,\n",
    "                                    verbose=False)\n",
    "\n",
    "demo_generator.generate_c_files(output_path)"
   ],
   "id": "ff8f73cc69b3ff9e",
   "outputs": [
    {
     "name": "stdout",
     "output_type": "stream",
     "text": [
      "Finished model initialization.\n"
     ]
    }
   ],
   "execution_count": 9
  },
  {
   "metadata": {},
   "cell_type": "markdown",
   "source": "The code then has the optimized implementation and is ready to be deployed on any target!",
   "id": "36439bc8ffcdac6b"
  },
  {
   "metadata": {},
   "cell_type": "markdown",
   "source": [
    "## Using the debug mode\n",
    "\n",
    "We will now test our implementation to ensure its correctness.\n",
    "\n",
    "We first create our reference against which the generated code will be compared."
   ],
   "id": "4df81a247b21e44d"
  },
  {
   "metadata": {
    "ExecuteTime": {
     "end_time": "2025-05-13T07:46:15.197963Z",
     "start_time": "2025-05-13T07:46:15.127814Z"
    }
   },
   "cell_type": "code",
   "source": [
    "to_save = True\n",
    "saving_path = output_path / \"debug_squeezenet.onnx\"\n",
    "otpimize_inputs = True\n",
    "\n",
    "model, _, outputs_onnx = debug.debug_onnx(target_model=str(model_path),\n",
    "                                          dataset=test_dataset,\n",
    "                                          otpimize_inputs=otpimize_inputs,\n",
    "                                          to_save=to_save,\n",
    "                                          path=saving_path)\n"
   ],
   "id": "ac3d01eda676cc65",
   "outputs": [],
   "execution_count": 10
  },
  {
   "metadata": {},
   "cell_type": "markdown",
   "source": "We then generate our new code, this time in debug mode. The new implementation is applied only on the convolution `29`, to isolate our implementation and try to locate any problems that could occur.",
   "id": "388314b61ac4a94c"
  },
  {
   "metadata": {
    "ExecuteTime": {
     "end_time": "2025-05-13T07:46:33.500982Z",
     "start_time": "2025-05-13T07:46:31.427237Z"
    }
   },
   "cell_type": "code",
   "source": [
    "# Cleaning the directory to generate new code\n",
    "clean_directory(output_path)\n",
    "# Generating the C code\n",
    "debug_generator = CodeGenerator(file=model_path,\n",
    "                                test_dataset=test_dataset,\n",
    "                                function_name=function_name,\n",
    "                                nb_tests=nb_tests,\n",
    "                                debug_mode=\"onnx\",\n",
    "                                versions={29:\"demo\"},\n",
    "                                verbose=False)\n",
    "\n",
    "debug_generator.generate_c_files(output_path)"
   ],
   "id": "3cc449740fa30331",
   "outputs": [
    {
     "name": "stdout",
     "output_type": "stream",
     "text": [
      "Finished model initialization.\n"
     ]
    }
   ],
   "execution_count": 11
  },
  {
   "metadata": {
    "ExecuteTime": {
     "end_time": "2025-05-13T07:47:11.987187Z",
     "start_time": "2025-05-13T07:47:05.951404Z"
    }
   },
   "cell_type": "code",
   "source": [
    "# Running the inference\n",
    "! make -C demo_squeezenet_variants all\n",
    "! ./demo_squeezenet_variants/demo_squeezenet ./demo_squeezenet_variants/output_c.txt"
   ],
   "id": "886a2fba46848a18",
   "outputs": [
    {
     "name": "stdout",
     "output_type": "stream",
     "text": [
      "make: Entering directory '/tmp_user/ldtim610h/yaitaiss/acetone/tutorials/demo_squeezenet_variants'\r\n",
      "gcc  -g -w -lm   -c -o inference.o inference.c\r\n",
      "gcc  -g -w -lm   -c -o global_vars.o global_vars.c\r\n",
      "gcc  -g -w -lm   -c -o main.o main.c\r\n",
      "gcc  -g -w -lm   -c -o test_dataset.o test_dataset.c\r\n",
      "gcc   -o demo_squeezenet inference.o global_vars.o main.o test_dataset.o  inference.h test_dataset.h   -g -w -lm\r\n",
      "make: Leaving directory '/tmp_user/ldtim610h/yaitaiss/acetone/tutorials/demo_squeezenet_variants'\r\n"
     ]
    }
   ],
   "execution_count": 12
  },
  {
   "metadata": {
    "ExecuteTime": {
     "end_time": "2025-05-13T07:47:16.213636Z",
     "start_time": "2025-05-13T07:47:14.318255Z"
    }
   },
   "cell_type": "code",
   "source": [
    "debug_file_path = output_path / \"debug_file.txt\"\n",
    "outputs_c, targets_c = debug.extract_outputs_c(path_to_output=debug_file_path,\n",
    "                                               data_type=debug_generator.data_type,\n",
    "                                               nb_targets=len(debug_generator.debug_target))"
   ],
   "id": "1bc809d218e8f927",
   "outputs": [],
   "execution_count": 13
  },
  {
   "metadata": {
    "ExecuteTime": {
     "end_time": "2025-05-13T07:47:17.115595Z",
     "start_time": "2025-05-13T07:47:16.959375Z"
    }
   },
   "cell_type": "code",
   "source": [
    "same = debug.compare_result(acetone_result=outputs_c,\n",
    "                            reference_result=outputs_onnx,\n",
    "                            targets=targets_c,\n",
    "                            verbose=True)"
   ],
   "id": "9b3dacbe8d8cd3f7",
   "outputs": [
    {
     "name": "stdout",
     "output_type": "stream",
     "text": [
      "--------------------------------------------\n",
      "Comparing Conv2D 1\n",
      "--------------------------------------------\n",
      "--------------------------------------------\n",
      "Comparing MaxPooling2D 2\n",
      "--------------------------------------------\n",
      "--------------------------------------------\n",
      "Comparing Conv2D 3\n",
      "--------------------------------------------\n",
      "--------------------------------------------\n",
      "Comparing Conv2D 4\n",
      "--------------------------------------------\n",
      "--------------------------------------------\n",
      "Comparing Conv2D 5\n",
      "--------------------------------------------\n",
      "--------------------------------------------\n",
      "Comparing Concatenate 6\n",
      "--------------------------------------------\n",
      "--------------------------------------------\n",
      "Comparing Conv2D 7\n",
      "--------------------------------------------\n",
      "--------------------------------------------\n",
      "Comparing Conv2D 8\n",
      "--------------------------------------------\n",
      "--------------------------------------------\n",
      "Comparing Conv2D 9\n",
      "--------------------------------------------\n",
      "--------------------------------------------\n",
      "Comparing Concatenate 10\n",
      "--------------------------------------------\n",
      "--------------------------------------------\n",
      "Comparing MaxPooling2D 11\n",
      "--------------------------------------------\n",
      "--------------------------------------------\n",
      "Comparing Conv2D 12\n",
      "--------------------------------------------\n",
      "--------------------------------------------\n",
      "Comparing Conv2D 13\n",
      "--------------------------------------------\n",
      "--------------------------------------------\n",
      "Comparing Conv2D 14\n",
      "Error: output value of Conv2D 14 incorrect\n",
      "\n",
      "Not equal to tolerance rtol=5e-06, atol=5e-06\n",
      "\n",
      "Mismatched elements: 1 / 93312 (0.00107%)\n",
      "Max absolute difference: 6.67572e-06\n",
      "Max relative difference: 0.02477346\n",
      " x: array([0.      , 0.      , 0.      , ..., 0.      , 0.      , 1.197842],\n",
      "      dtype=float32)\n",
      " y: array([0.      , 0.      , 0.      , ..., 0.      , 0.      , 1.197845],\n",
      "      dtype=float32)\n",
      "--------------------------------------------\n",
      "--------------------------------------------\n",
      "Comparing Concatenate 15\n",
      "Error: output value of Concatenate 15 incorrect\n",
      "\n",
      "Not equal to tolerance rtol=5e-06, atol=5e-06\n",
      "\n",
      "Mismatched elements: 1 / 186624 (0.000536%)\n",
      "Max absolute difference: 6.67572e-06\n",
      "Max relative difference: 0.02477346\n",
      " x: array([0.      , 0.      , 0.      , ..., 0.      , 0.      , 1.197842],\n",
      "      dtype=float32)\n",
      " y: array([0.      , 0.      , 0.      , ..., 0.      , 0.      , 1.197845],\n",
      "      dtype=float32)\n",
      "--------------------------------------------\n",
      "--------------------------------------------\n",
      "Comparing Conv2D 16\n",
      "--------------------------------------------\n",
      "--------------------------------------------\n",
      "Comparing Conv2D 17\n",
      "--------------------------------------------\n",
      "--------------------------------------------\n",
      "Comparing Conv2D 18\n",
      "Error: output value of Conv2D 18 incorrect\n",
      "\n",
      "Not equal to tolerance rtol=5e-06, atol=5e-06\n",
      "\n",
      "Mismatched elements: 3 / 93312 (0.00322%)\n",
      "Max absolute difference: 6.67572e-06\n",
      "Max relative difference: 0.00758515\n",
      " x: array([0.119211, 0.801161, 2.61269 , ..., 0.      , 0.      , 0.      ],\n",
      "      dtype=float32)\n",
      " y: array([0.119213, 0.801161, 2.612691, ..., 0.      , 0.      , 0.      ],\n",
      "      dtype=float32)\n",
      "--------------------------------------------\n",
      "--------------------------------------------\n",
      "Comparing Concatenate 19\n",
      "Error: output value of Concatenate 19 incorrect\n",
      "\n",
      "Not equal to tolerance rtol=5e-06, atol=5e-06\n",
      "\n",
      "Mismatched elements: 3 / 186624 (0.00161%)\n",
      "Max absolute difference: 6.67572e-06\n",
      "Max relative difference: 0.02046569\n",
      " x: array([0., 0., 0., ..., 0., 0., 0.], dtype=float32)\n",
      " y: array([0., 0., 0., ..., 0., 0., 0.], dtype=float32)\n",
      "--------------------------------------------\n",
      "--------------------------------------------\n",
      "Comparing MaxPooling2D 20\n",
      "Error: output value of MaxPooling2D 20 incorrect\n",
      "\n",
      "Not equal to tolerance rtol=5e-06, atol=5e-06\n",
      "\n",
      "Mismatched elements: 2 / 43264 (0.00462%)\n",
      "Max absolute difference: 6.660819e-06\n",
      "Max relative difference: 0.01032099\n",
      " x: array([0.      , 0.      , 0.      , ..., 0.      , 0.      , 0.182496],\n",
      "      dtype=float32)\n",
      " y: array([0.      , 0.      , 0.      , ..., 0.      , 0.      , 0.182497],\n",
      "      dtype=float32)\n",
      "--------------------------------------------\n",
      "--------------------------------------------\n",
      "Comparing Conv2D 21\n",
      "--------------------------------------------\n",
      "--------------------------------------------\n",
      "Comparing Conv2D 22\n",
      "--------------------------------------------\n",
      "--------------------------------------------\n",
      "Comparing Conv2D 23\n",
      "--------------------------------------------\n",
      "--------------------------------------------\n",
      "Comparing Concatenate 24\n",
      "--------------------------------------------\n",
      "--------------------------------------------\n",
      "Comparing Conv2D 25\n",
      "--------------------------------------------\n",
      "--------------------------------------------\n",
      "Comparing Conv2D 26\n",
      "--------------------------------------------\n",
      "--------------------------------------------\n",
      "Comparing Conv2D 27\n",
      "--------------------------------------------\n",
      "--------------------------------------------\n",
      "Comparing Concatenate 28\n",
      "--------------------------------------------\n",
      "--------------------------------------------\n",
      "Comparing Conv2D 29\n",
      "Error: output value of Conv2D 29 incorrect\n",
      "\n",
      "Not equal to tolerance rtol=5e-06, atol=5e-06\n",
      "\n",
      "Mismatched elements: 10816 / 10816 (100%)\n",
      "Max absolute difference: 7.5888367\n",
      "Max relative difference: 28297.918\n",
      " x: array([0.42, 0.42, 0.42, ..., 0.42, 0.42, 0.42], dtype=float32)\n",
      " y: array([1.460846, 1.573057, 1.514475, ..., 0.      , 0.117514, 0.      ],\n",
      "      dtype=float32)\n",
      "--------------------------------------------\n",
      "--------------------------------------------\n",
      "Comparing Conv2D 30\n",
      "Error: output value of Conv2D 30 incorrect\n",
      "\n",
      "Not equal to tolerance rtol=5e-06, atol=5e-06\n",
      "\n",
      "Mismatched elements: 31180 / 43264 (72.1%)\n",
      "Max absolute difference: 5.054103\n",
      "Max relative difference: 1258.4628\n",
      " x: array([0.      , 0.      , 0.      , ..., 0.049126, 0.049126, 0.049126],\n",
      "      dtype=float32)\n",
      " y: array([0.      , 0.      , 0.      , ..., 0.057416, 0.244865, 0.19499 ],\n",
      "      dtype=float32)\n",
      "--------------------------------------------\n",
      "--------------------------------------------\n",
      "Comparing Conv2D 31\n",
      "Error: output value of Conv2D 31 incorrect\n",
      "\n",
      "Not equal to tolerance rtol=5e-06, atol=5e-06\n",
      "\n",
      "Mismatched elements: 30733 / 43264 (71%)\n",
      "Max absolute difference: 28.619127\n",
      "Max relative difference: 128.61377\n",
      " x: array([0., 0., 0., ..., 0., 0., 0.], dtype=float32)\n",
      " y: array([1.249329, 1.23441 , 1.258629, ..., 2.836045, 2.623871, 1.359919],\n",
      "      dtype=float32)\n",
      "--------------------------------------------\n",
      "--------------------------------------------\n",
      "Comparing Concatenate 32\n",
      "Error: output value of Concatenate 32 incorrect\n",
      "\n",
      "Not equal to tolerance rtol=5e-06, atol=5e-06\n",
      "\n",
      "Mismatched elements: 61913 / 86528 (71.6%)\n",
      "Max absolute difference: 28.619127\n",
      "Max relative difference: 1258.4628\n",
      " x: array([0., 0., 0., ..., 0., 0., 0.], dtype=float32)\n",
      " y: array([0.      , 0.      , 0.      , ..., 2.836045, 2.623871, 1.359919],\n",
      "      dtype=float32)\n",
      "--------------------------------------------\n",
      "--------------------------------------------\n",
      "Comparing Conv2D 33\n",
      "Error: output value of Conv2D 33 incorrect\n",
      "\n",
      "Not equal to tolerance rtol=5e-06, atol=5e-06\n",
      "\n",
      "Mismatched elements: 9050 / 10816 (83.7%)\n",
      "Max absolute difference: 34.922165\n",
      "Max relative difference: 68.5603\n",
      " x: array([0.466385, 0.520681, 0.520681, ..., 0.      , 0.      , 0.      ],\n",
      "      dtype=float32)\n",
      " y: array([0., 0., 0., ..., 0., 0., 0.], dtype=float32)\n",
      "--------------------------------------------\n",
      "--------------------------------------------\n",
      "Comparing Conv2D 34\n",
      "Error: output value of Conv2D 34 incorrect\n",
      "\n",
      "Not equal to tolerance rtol=5e-06, atol=5e-06\n",
      "\n",
      "Mismatched elements: 19177 / 43264 (44.3%)\n",
      "Max absolute difference: 17.497042\n",
      "Max relative difference: 421.26544\n",
      " x: array([0., 0., 0., ..., 0., 0., 0.], dtype=float32)\n",
      " y: array([0., 0., 0., ..., 0., 0., 0.], dtype=float32)\n",
      "--------------------------------------------\n",
      "--------------------------------------------\n",
      "Comparing Conv2D 35\n",
      "Error: output value of Conv2D 35 incorrect\n",
      "\n",
      "Not equal to tolerance rtol=5e-06, atol=5e-06\n",
      "\n",
      "Mismatched elements: 19474 / 43264 (45%)\n",
      "Max absolute difference: 23.730026\n",
      "Max relative difference: 207.91881\n",
      " x: array([0.      , 0.      , 0.      , ..., 0.356222, 0.263707, 0.161634],\n",
      "      dtype=float32)\n",
      " y: array([0., 0., 0., ..., 0., 0., 0.], dtype=float32)\n",
      "--------------------------------------------\n",
      "--------------------------------------------\n",
      "Comparing Concatenate 36\n",
      "Error: output value of Concatenate 36 incorrect\n",
      "\n",
      "Not equal to tolerance rtol=5e-06, atol=5e-06\n",
      "\n",
      "Mismatched elements: 38651 / 86528 (44.7%)\n",
      "Max absolute difference: 23.730026\n",
      "Max relative difference: 421.26544\n",
      " x: array([0.      , 0.      , 0.      , ..., 0.356222, 0.263707, 0.161634],\n",
      "      dtype=float32)\n",
      " y: array([0., 0., 0., ..., 0., 0., 0.], dtype=float32)\n",
      "--------------------------------------------\n",
      "--------------------------------------------\n",
      "Comparing Conv2D 37\n",
      "Error: output value of Conv2D 37 incorrect\n",
      "\n",
      "Not equal to tolerance rtol=5e-06, atol=5e-06\n",
      "\n",
      "Mismatched elements: 163799 / 169000 (96.9%)\n",
      "Max absolute difference: 15.672305\n",
      "Max relative difference: 13071.701\n",
      " x: array([0.26344 , 0.349674, 0.361254, ..., 0.636058, 0.607833, 0.452093],\n",
      "      dtype=float32)\n",
      " y: array([2.281881, 3.118341, 3.902776, ..., 9.85354 , 8.586232, 5.531776],\n",
      "      dtype=float32)\n",
      "--------------------------------------------\n",
      "--------------------------------------------\n",
      "Comparing AveragePooling2D 38\n",
      "Error: output value of AveragePooling2D 38 incorrect\n",
      "\n",
      "Not equal to tolerance rtol=5e-06, atol=5e-06\n",
      "\n",
      "Mismatched elements: 996 / 1000 (99.6%)\n",
      "Max absolute difference: 12.960951\n",
      "Max relative difference: 72.05688\n",
      " x: array([6.836113e-01, 7.478582e-01, 9.320199e-01, 9.072415e-01,\n",
      "       9.986764e-01, 8.954208e-01, 9.713843e-01, 2.811585e-01,\n",
      "       4.788736e-01, 1.372957e-03, 2.331474e-01, 0.000000e+00,...\n",
      " y: array([5.326461e+00, 9.678874e+00, 6.159818e+00, 8.719445e+00,\n",
      "       8.661931e+00, 1.063770e+01, 1.217480e+01, 1.897511e+00,\n",
      "       4.521726e+00, 5.440756e-01, 2.917667e+00, 3.053294e-02,...\n",
      "--------------------------------------------\n",
      "--------------------------------------------\n",
      "Comparing Softmax 39\n",
      "Error: output value of Softmax 39 incorrect\n",
      "\n",
      "Not equal to tolerance rtol=5e-06, atol=5e-06\n",
      "\n",
      "Mismatched elements: 1000 / 1000 (100%)\n",
      "Max absolute difference: 0.12076902\n",
      "Max relative difference: 6059.22\n",
      " x: array([0.001368, 0.001458, 0.001753, 0.00171 , 0.001874, 0.00169 ,\n",
      "       0.001824, 0.000915, 0.001114, 0.000691, 0.000872, 0.00069 ,\n",
      "       0.001027, 0.001021, 0.000858, 0.000857, 0.000871, 0.001015,...\n",
      " y: array([3.522211e-05, 2.735546e-03, 8.104707e-05, 1.048020e-03,\n",
      "       9.894442e-04, 7.136041e-03, 3.319044e-02, 1.141934e-06,\n",
      "       1.575155e-05, 2.950202e-07, 3.167301e-06, 1.765317e-07,...\n",
      "--------------------------------------------\n",
      "++++++++++++++++++++++++++++++++++++++++++++\n",
      "Total number of error: 16/39 (41.0%)\n",
      "First error at Conv2D 14\n",
      "++++++++++++++++++++++++++++++++++++++++++++\n"
     ]
    }
   ],
   "execution_count": 14
  },
  {
   "metadata": {},
   "cell_type": "markdown",
   "source": "We can see that, starting from the layer Conv2D_29, all the layers raise an error, precisely locating the error.",
   "id": "eb8f69d46716e3ff"
  }
 ],
 "metadata": {
  "kernelspec": {
   "display_name": "Python 3",
   "language": "python",
   "name": "python3"
  },
  "language_info": {
   "codemirror_mode": {
    "name": "ipython",
    "version": 2
   },
   "file_extension": ".py",
   "mimetype": "text/x-python",
   "name": "python",
   "nbconvert_exporter": "python",
   "pygments_lexer": "ipython2",
   "version": "2.7.6"
  }
 },
 "nbformat": 4,
 "nbformat_minor": 5
}
