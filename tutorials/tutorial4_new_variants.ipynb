{
 "cells": [
  {
   "metadata": {},
   "cell_type": "markdown",
   "source": [
    "# ACETONE tutorial #4\n",
    "\n",
    "**Implementing a new version of a layer**"
   ],
   "id": "4ffb0de7279e1066"
  },
  {
   "metadata": {},
   "cell_type": "markdown",
   "source": [
    "Efficiency is a key aspect in the embedded sector, with each code being specifically adpated to a target. As such, we need to be able to create new implementations for each layer.\n",
    "\n",
    "In this notebook, we'll explain how to create specific versions of a layer with ACETONE and use them.\n",
    "We will then use the mode debug seen in [tutorial #3](./tutorial3_using_debug_mode.ipynb) to correct our implementation\n",
    "\n",
    "* When running this notebook on Colab, we need to install ACETONE\n",
    "* If you run this notebook locally, run it in the environment in which you installed ACETONE"
   ],
   "id": "8bd9cd4f5011b414"
  },
  {
   "metadata": {},
   "cell_type": "code",
   "source": [
    "# Cleaning the working environment\n",
    "from pathlib import Path\n",
    "from os import remove, listdir\n",
    "\n",
    "# Path to the example files\n",
    "PATH_DIR = Path(\"../tests/models/squeezenet1\")\n",
    "\n",
    "# Path to generated directories\n",
    "output_path = Path(\"demo_squeezenet_variants\")\n",
    "\n",
    "def clean_directory(directory):\n",
    "    if directory.exists():\n",
    "        for file in listdir(directory):\n",
    "            if not (directory / file).is_dir():\n",
    "                remove(directory / file)\n",
    "\n",
    "clean_directory(output_path)"
   ],
   "id": "cc5988cb90afb8e1",
   "outputs": [],
   "execution_count": null
  },
  {
   "metadata": {},
   "cell_type": "markdown",
   "source": [
    "## Imports\n",
    "\n",
    "In this notebook, we'll use as example the model `SqueezeNet 1.0` (with `opset-version==12`) given in [*ONNX's model zoo*](https://github.com/onnx/models?tab=readme-ov-file). The beginning of the model is illustrated below.\n",
    "\n",
    "![squeezenet](./data/squeezenet1.png)\n"
   ],
   "id": "b4c93888b74ffb"
  },
  {
   "metadata": {},
   "cell_type": "code",
   "source": [
    "# Eternal imports\n",
    "import numpy as np\n",
    "import numpy.random as rd\n",
    "import pystache\n",
    "\n",
    "# ACETONE's imports\n",
    "from acetone_nnet import CodeGenerator\n",
    "from acetone_nnet import layer_factories\n",
    "from acetone_nnet import debug\n",
    "from acetone_nnet.generator import Conv2D\n"
   ],
   "id": "1a1dbe5b5c27d9d0",
   "outputs": [],
   "execution_count": null
  },
  {
   "metadata": {},
   "cell_type": "code",
   "source": [
    "model_path = PATH_DIR / \"squeezenet1.onnx\"\n",
    "test_dataset = np.float32(rd.random((1,3,224,224)))\n",
    "function_name = \"demo_squeezenet\"\n",
    "nb_tests = 1"
   ],
   "id": "3341e56e78b471bd",
   "outputs": [],
   "execution_count": null
  },
  {
   "metadata": {},
   "cell_type": "markdown",
   "source": [
    "## Adding a new implementation\n",
    "\n",
    "Let's assume that, after studies and tests, we have found a new way to perform a convolution: setting each element of the output to `0.42`.\n",
    "\n",
    "This method being far more efficient and simple than any other, we want to use it with ACETONE. But, sadly, the framework doesn't have an implementation for it, we have to add it ourselves."
   ],
   "id": "14fda9334014a05f"
  },
  {
   "metadata": {},
   "cell_type": "code",
   "source": [
    "# Printing all the algorithm implemented in ACETONE for a convolution\n",
    "print(\"Base implementations : \")\n",
    "print(layer_factories.conv2d_factory.list_implementations)"
   ],
   "id": "8cc25a9cef009416",
   "outputs": [],
   "execution_count": null
  },
  {
   "metadata": {},
   "cell_type": "markdown",
   "source": [
    "To implement it, we have to create a new class inheriting from the `Conv2D` class (or one of its child classes).\n",
    "\n",
    "* The first method we must implement is called `generate_inference_code`. This method will construct the C code correponding to the layer, and return it as a string.\n",
    "* The second method, `forwad_path_layer`, is optional. It tell the framework how to compute the output of the layer unsing Pyhton. If not given, the method defined in the parent class is used."
   ],
   "id": "a4c31f652f9b29ea"
  },
  {
   "metadata": {},
   "cell_type": "code",
   "source": [
    "# Creating a new implementation\n",
    "class Conv2D_Demo(Conv2D):\n",
    "\n",
    "    def __init__(self, **kwargs: int) -> None:\n",
    "        \"\"\"Build a Convolution layer with a demo implementation.\"\"\"\n",
    "        super().__init__(**kwargs)\n",
    "\n",
    "    def generate_inference_code_layer(self) -> str:\n",
    "        \"\"\"Generate computation code for layer.\"\"\"\n",
    "        input_str = [prev_layer.output_str for prev_layer in self.previous_layer]\n",
    "        ouptut_str = f\"output_{self.path}\"\n",
    "\n",
    "        code_str =  \"    // {{name}}_{{idx}}\\n    for (k = 0; k < {{size}}; ++k) {{output_str}}[k] = 0.42;\"\n",
    "        return pystache.render(code_str,{\"name\":self.name, \"idx\":self.idx, \"size\":self.size,\"output_str\":ouptut_str})\n",
    "\n",
    "    def forward_path_layer(self, input_array) -> np.ndarray:\n",
    "        return 0.42*np.ones((1,self.output_channels,self.output_height,self.output_width))"
   ],
   "id": "aa5018dc944c53d9",
   "outputs": [],
   "execution_count": null
  },
  {
   "metadata": {},
   "cell_type": "markdown",
   "source": "When parsing the neural network, each time ACETONE encounters a layer having several versions, it places a temporary layers. Once the model is completely extracted, those placeholders are then replaced by a definitive layer with the correct implementation, simply by extracting the values stored (such as weight, size, biases, ...) and using them to initialize a new layer.",
   "id": "2c2bc523e9662129"
  },
  {
   "metadata": {},
   "cell_type": "code",
   "source": [
    "# Creating a Conv2D_Demo layer using the attributes of old_layer\n",
    "def conv2d_demo_implementation(\n",
    "        old_layer: Conv2D,\n",
    "        conv_algo: str,\n",
    ") -> Conv2D_Demo:\n",
    "    return Conv2D_Demo(\n",
    "        idx=old_layer.idx,\n",
    "        conv_algorithm=conv_algo,\n",
    "        size=old_layer.size,\n",
    "        padding=old_layer.padding,\n",
    "        strides=old_layer.strides,\n",
    "        kernel_h=old_layer.kernel_h,\n",
    "        kernel_w=old_layer.kernel_w,\n",
    "        dilation_rate=old_layer.dilation_rate,\n",
    "        nb_filters=old_layer.nb_filters,\n",
    "        input_shape=[1, old_layer.input_channels, old_layer.input_height, old_layer.input_width],\n",
    "        output_shape=[1, old_layer.output_channels, old_layer.output_height, old_layer.output_width],\n",
    "        weights=old_layer.weights,\n",
    "        biases=old_layer.biases,\n",
    "        activation_function=old_layer.activation_function,\n",
    "    )"
   ],
   "id": "6fc2d70f4af47293",
   "outputs": [],
   "execution_count": null
  },
  {
   "metadata": {},
   "cell_type": "markdown",
   "source": "Finally, to add the newly created implementation to ACETONE, we need to register it within the layer's version manager.",
   "id": "7f41191aa8d0b44e"
  },
  {
   "metadata": {},
   "cell_type": "code",
   "source": [
    "layer_factories.conv2d_factory.register_implementation(\"demo\", conv2d_demo_implementation)\n",
    "\n",
    "print(\"Updated implementations : \")\n",
    "print(layer_factories.conv2d_factory.list_implementations)"
   ],
   "id": "b7509c4bd776cb7c",
   "outputs": [],
   "execution_count": null
  },
  {
   "metadata": {},
   "cell_type": "markdown",
   "source": "The new version being available in the list of implementations, we can now use it to generate code.",
   "id": "7b6addd7f98eef41"
  },
  {
   "metadata": {},
   "cell_type": "code",
   "source": [
    "# Create an ACETONE CodeGenerator from the model\n",
    "demo_generator = CodeGenerator(file=model_path,\n",
    "                                    function_name=function_name,\n",
    "                                    external_input=True,\n",
    "                                    versions={\"Conv2D\":\"demo\"},\n",
    "                                    nb_tests=nb_tests,\n",
    "                                    verbose=False)\n",
    "\n",
    "demo_generator.generate_c_files(output_path)"
   ],
   "id": "ff8f73cc69b3ff9e",
   "outputs": [],
   "execution_count": null
  },
  {
   "metadata": {},
   "cell_type": "markdown",
   "source": "The code then has the optimized implementation and is ready to be deployed on any target!",
   "id": "36439bc8ffcdac6b"
  },
  {
   "metadata": {},
   "cell_type": "markdown",
   "source": [
    "## Using the debug mode\n",
    "\n",
    "We will now test our implementation to ensure its correctness.\n",
    "\n",
    "We first create our reference against which the generated code will be compared."
   ],
   "id": "4df81a247b21e44d"
  },
  {
   "metadata": {},
   "cell_type": "code",
   "source": [
    "to_save = True\n",
    "saving_path = output_path / \"debug_squeezenet.onnx\"\n",
    "optimize_inputs = True\n",
    "\n",
    "model, _, outputs_onnx = debug.debug_onnx(target_model=str(model_path),\n",
    "                                          dataset=test_dataset,\n",
    "                                          optimize_inputs=optimize_inputs,\n",
    "                                          to_save=to_save,\n",
    "                                          path=saving_path)\n"
   ],
   "id": "ac3d01eda676cc65",
   "outputs": [],
   "execution_count": null
  },
  {
   "metadata": {},
   "cell_type": "markdown",
   "source": "We then generate our new code, this time in debug mode. The new implementation is applied only on the convolution `29`, to isolate our implementation and try to locate any problems that could occur.",
   "id": "388314b61ac4a94c"
  },
  {
   "metadata": {},
   "cell_type": "code",
   "source": [
    "# Cleaning the directory to generate new code\n",
    "clean_directory(output_path)\n",
    "# Generating the C code\n",
    "debug_generator = CodeGenerator(file=model_path,\n",
    "                                test_dataset=test_dataset,\n",
    "                                function_name=function_name,\n",
    "                                nb_tests=nb_tests,\n",
    "                                debug_mode=\"onnx\",\n",
    "                                versions={29:\"demo\"},\n",
    "                                verbose=False)\n",
    "\n",
    "debug_generator.generate_c_files(output_path)"
   ],
   "id": "3cc449740fa30331",
   "outputs": [],
   "execution_count": null
  },
  {
   "metadata": {},
   "cell_type": "code",
   "source": [
    "# Running the inference\n",
    "! make -C demo_squeezenet_variants all\n",
    "! ./demo_squeezenet_variants/demo_squeezenet ./demo_squeezenet_variants/output_c.txt"
   ],
   "id": "886a2fba46848a18",
   "outputs": [],
   "execution_count": null
  },
  {
   "metadata": {},
   "cell_type": "code",
   "source": [
    "debug_file_path = output_path / \"debug_file.txt\"\n",
    "outputs_c, targets_c = debug.extract_outputs_c(path_to_output=debug_file_path,\n",
    "                                               data_type=debug_generator.data_type,\n",
    "                                               nb_targets=len(debug_generator.debug_target))"
   ],
   "id": "1bc809d218e8f927",
   "outputs": [],
   "execution_count": null
  },
  {
   "metadata": {},
   "cell_type": "code",
   "source": [
    "same = debug.compare_result(acetone_result=outputs_c,\n",
    "                            reference_result=outputs_onnx,\n",
    "                            targets=targets_c,\n",
    "                            verbose=True,\n",
    "                            atol=3e-5,\n",
    "                            rtol=1e-8)"
   ],
   "id": "9b3dacbe8d8cd3f7",
   "outputs": [],
   "execution_count": null
  },
  {
   "metadata": {},
   "cell_type": "markdown",
   "source": "We can see that, starting from the layer Conv2D_29, all the layers raise an error, precisely locating the error.",
   "id": "eb8f69d46716e3ff"
  }
 ],
 "metadata": {
  "kernelspec": {
   "display_name": "Python 3",
   "language": "python",
   "name": "python3"
  },
  "language_info": {
   "codemirror_mode": {
    "name": "ipython",
    "version": 2
   },
   "file_extension": ".py",
   "mimetype": "text/x-python",
   "name": "python",
   "nbconvert_exporter": "python",
   "pygments_lexer": "ipython2",
   "version": "2.7.6"
  }
 },
 "nbformat": 4,
 "nbformat_minor": 5
}
